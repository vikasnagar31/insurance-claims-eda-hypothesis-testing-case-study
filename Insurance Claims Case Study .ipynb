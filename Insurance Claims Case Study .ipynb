{
 "cells": [
  {
   "cell_type": "markdown",
   "id": "930507a4-0ee9-4aa2-9710-0550b40ef138",
   "metadata": {},
   "source": [
    "<center>\n",
    "<h1> Insaurance Claims Case Study <h1>\n",
    "</center>"
   ]
  },
  {
   "cell_type": "markdown",
   "id": "35937454-1f4e-4eeb-925a-48fef1427e00",
   "metadata": {},
   "source": [
    "### 1. Import claims_data.csv and cust_data.csv which is provided to you and combine the two datasets appropriately to create a 360-degree view of the data. Use the same for the subsequent questions."
   ]
  },
  {
   "cell_type": "code",
   "execution_count": 217,
   "id": "6ed7b97d-ebbb-497a-8a71-50037e8ab107",
   "metadata": {},
   "outputs": [],
   "source": [
    "import pandas as pd \n",
    "import numpy as np \n",
    "import matplotlib.pyplot as plt \n",
    "%matplotlib inline\n",
    "import seaborn as sns \n",
    "import scipy.stats as stats"
   ]
  },
  {
   "cell_type": "code",
   "execution_count": 218,
   "id": "62c6504a-7682-4b34-8666-023b2a84f5fd",
   "metadata": {},
   "outputs": [],
   "source": [
    "claims=pd.read_csv('claims.csv')\n",
    "cust_data=pd.read_csv('cust_demographics.csv')"
   ]
  },
  {
   "cell_type": "code",
   "execution_count": 219,
   "id": "5b03dac7-d2af-48d0-bc02-81125d4b05b3",
   "metadata": {},
   "outputs": [
    {
     "data": {
      "text/html": [
       "<div>\n",
       "<style scoped>\n",
       "    .dataframe tbody tr th:only-of-type {\n",
       "        vertical-align: middle;\n",
       "    }\n",
       "\n",
       "    .dataframe tbody tr th {\n",
       "        vertical-align: top;\n",
       "    }\n",
       "\n",
       "    .dataframe thead th {\n",
       "        text-align: right;\n",
       "    }\n",
       "</style>\n",
       "<table border=\"1\" class=\"dataframe\">\n",
       "  <thead>\n",
       "    <tr style=\"text-align: right;\">\n",
       "      <th></th>\n",
       "      <th>claim_id</th>\n",
       "      <th>customer_id</th>\n",
       "      <th>incident_cause</th>\n",
       "      <th>claim_date</th>\n",
       "      <th>claim_area</th>\n",
       "      <th>police_report</th>\n",
       "      <th>claim_type</th>\n",
       "      <th>claim_amount</th>\n",
       "      <th>total_policy_claims</th>\n",
       "      <th>fraudulent</th>\n",
       "    </tr>\n",
       "  </thead>\n",
       "  <tbody>\n",
       "    <tr>\n",
       "      <th>0</th>\n",
       "      <td>54004764</td>\n",
       "      <td>21868593</td>\n",
       "      <td>Driver error</td>\n",
       "      <td>11/27/2017</td>\n",
       "      <td>Auto</td>\n",
       "      <td>No</td>\n",
       "      <td>Material only</td>\n",
       "      <td>$2980</td>\n",
       "      <td>1.0</td>\n",
       "      <td>No</td>\n",
       "    </tr>\n",
       "    <tr>\n",
       "      <th>1</th>\n",
       "      <td>33985796</td>\n",
       "      <td>75740424</td>\n",
       "      <td>Crime</td>\n",
       "      <td>10/03/2018</td>\n",
       "      <td>Home</td>\n",
       "      <td>Unknown</td>\n",
       "      <td>Material only</td>\n",
       "      <td>$2980</td>\n",
       "      <td>3.0</td>\n",
       "      <td>No</td>\n",
       "    </tr>\n",
       "    <tr>\n",
       "      <th>2</th>\n",
       "      <td>53522022</td>\n",
       "      <td>30308357</td>\n",
       "      <td>Other driver error</td>\n",
       "      <td>02/02/2018</td>\n",
       "      <td>Auto</td>\n",
       "      <td>No</td>\n",
       "      <td>Material only</td>\n",
       "      <td>$3369.5</td>\n",
       "      <td>1.0</td>\n",
       "      <td>Yes</td>\n",
       "    </tr>\n",
       "    <tr>\n",
       "      <th>3</th>\n",
       "      <td>13015401</td>\n",
       "      <td>47830476</td>\n",
       "      <td>Natural causes</td>\n",
       "      <td>06/17/2018</td>\n",
       "      <td>Auto</td>\n",
       "      <td>No</td>\n",
       "      <td>Material only</td>\n",
       "      <td>$1680</td>\n",
       "      <td>1.0</td>\n",
       "      <td>No</td>\n",
       "    </tr>\n",
       "    <tr>\n",
       "      <th>4</th>\n",
       "      <td>22890252</td>\n",
       "      <td>19269962</td>\n",
       "      <td>Crime</td>\n",
       "      <td>01/13/2018</td>\n",
       "      <td>Auto</td>\n",
       "      <td>No</td>\n",
       "      <td>Material only</td>\n",
       "      <td>$2680</td>\n",
       "      <td>1.0</td>\n",
       "      <td>No</td>\n",
       "    </tr>\n",
       "  </tbody>\n",
       "</table>\n",
       "</div>"
      ],
      "text/plain": [
       "   claim_id  customer_id      incident_cause  claim_date claim_area  \\\n",
       "0  54004764     21868593        Driver error  11/27/2017       Auto   \n",
       "1  33985796     75740424               Crime  10/03/2018       Home   \n",
       "2  53522022     30308357  Other driver error  02/02/2018       Auto   \n",
       "3  13015401     47830476      Natural causes  06/17/2018       Auto   \n",
       "4  22890252     19269962               Crime  01/13/2018       Auto   \n",
       "\n",
       "  police_report     claim_type claim_amount  total_policy_claims fraudulent  \n",
       "0            No  Material only        $2980                  1.0         No  \n",
       "1       Unknown  Material only        $2980                  3.0         No  \n",
       "2            No  Material only      $3369.5                  1.0        Yes  \n",
       "3            No  Material only        $1680                  1.0         No  \n",
       "4            No  Material only        $2680                  1.0         No  "
      ]
     },
     "execution_count": 219,
     "metadata": {},
     "output_type": "execute_result"
    }
   ],
   "source": [
    "claims.head()"
   ]
  },
  {
   "cell_type": "code",
   "execution_count": 220,
   "id": "695581f0-33d3-42a1-8a92-8ca42500ce9c",
   "metadata": {},
   "outputs": [
    {
     "data": {
      "text/html": [
       "<div>\n",
       "<style scoped>\n",
       "    .dataframe tbody tr th:only-of-type {\n",
       "        vertical-align: middle;\n",
       "    }\n",
       "\n",
       "    .dataframe tbody tr th {\n",
       "        vertical-align: top;\n",
       "    }\n",
       "\n",
       "    .dataframe thead th {\n",
       "        text-align: right;\n",
       "    }\n",
       "</style>\n",
       "<table border=\"1\" class=\"dataframe\">\n",
       "  <thead>\n",
       "    <tr style=\"text-align: right;\">\n",
       "      <th></th>\n",
       "      <th>CUST_ID</th>\n",
       "      <th>gender</th>\n",
       "      <th>DateOfBirth</th>\n",
       "      <th>State</th>\n",
       "      <th>Contact</th>\n",
       "      <th>Segment</th>\n",
       "    </tr>\n",
       "  </thead>\n",
       "  <tbody>\n",
       "    <tr>\n",
       "      <th>0</th>\n",
       "      <td>21868593</td>\n",
       "      <td>Female</td>\n",
       "      <td>12-Jan-79</td>\n",
       "      <td>VT</td>\n",
       "      <td>789-916-8172</td>\n",
       "      <td>Platinum</td>\n",
       "    </tr>\n",
       "    <tr>\n",
       "      <th>1</th>\n",
       "      <td>75740424</td>\n",
       "      <td>Female</td>\n",
       "      <td>13-Jan-70</td>\n",
       "      <td>ME</td>\n",
       "      <td>265-543-1264</td>\n",
       "      <td>Silver</td>\n",
       "    </tr>\n",
       "    <tr>\n",
       "      <th>2</th>\n",
       "      <td>30308357</td>\n",
       "      <td>Female</td>\n",
       "      <td>11-Mar-84</td>\n",
       "      <td>TN</td>\n",
       "      <td>798-631-4758</td>\n",
       "      <td>Silver</td>\n",
       "    </tr>\n",
       "    <tr>\n",
       "      <th>3</th>\n",
       "      <td>47830476</td>\n",
       "      <td>Female</td>\n",
       "      <td>01-May-86</td>\n",
       "      <td>MA</td>\n",
       "      <td>413-187-7945</td>\n",
       "      <td>Silver</td>\n",
       "    </tr>\n",
       "    <tr>\n",
       "      <th>4</th>\n",
       "      <td>19269962</td>\n",
       "      <td>Male</td>\n",
       "      <td>13-May-77</td>\n",
       "      <td>NV</td>\n",
       "      <td>956-871-8691</td>\n",
       "      <td>Gold</td>\n",
       "    </tr>\n",
       "  </tbody>\n",
       "</table>\n",
       "</div>"
      ],
      "text/plain": [
       "    CUST_ID  gender DateOfBirth State       Contact   Segment\n",
       "0  21868593  Female   12-Jan-79    VT  789-916-8172  Platinum\n",
       "1  75740424  Female   13-Jan-70    ME  265-543-1264    Silver\n",
       "2  30308357  Female   11-Mar-84    TN  798-631-4758    Silver\n",
       "3  47830476  Female   01-May-86    MA  413-187-7945    Silver\n",
       "4  19269962    Male   13-May-77    NV  956-871-8691      Gold"
      ]
     },
     "execution_count": 220,
     "metadata": {},
     "output_type": "execute_result"
    }
   ],
   "source": [
    "cust_data.head()\n"
   ]
  },
  {
   "cell_type": "code",
   "execution_count": 221,
   "id": "833336e0-b92a-4d6d-ae6b-2711e95002ef",
   "metadata": {},
   "outputs": [
    {
     "data": {
      "text/plain": [
       "(1093, 1085)"
      ]
     },
     "execution_count": 221,
     "metadata": {},
     "output_type": "execute_result"
    }
   ],
   "source": [
    "claims.customer_id.nunique(),cust_data.CUST_ID.nunique()     "
   ]
  },
  {
   "cell_type": "code",
   "execution_count": 222,
   "id": "28835b4a-8e92-4941-badb-d7c3f1ab2c1f",
   "metadata": {},
   "outputs": [
    {
     "data": {
      "text/html": [
       "<div>\n",
       "<style scoped>\n",
       "    .dataframe tbody tr th:only-of-type {\n",
       "        vertical-align: middle;\n",
       "    }\n",
       "\n",
       "    .dataframe tbody tr th {\n",
       "        vertical-align: top;\n",
       "    }\n",
       "\n",
       "    .dataframe thead th {\n",
       "        text-align: right;\n",
       "    }\n",
       "</style>\n",
       "<table border=\"1\" class=\"dataframe\">\n",
       "  <thead>\n",
       "    <tr style=\"text-align: right;\">\n",
       "      <th></th>\n",
       "      <th>claim_id</th>\n",
       "      <th>customer_id</th>\n",
       "      <th>incident_cause</th>\n",
       "      <th>claim_date</th>\n",
       "      <th>claim_area</th>\n",
       "      <th>police_report</th>\n",
       "      <th>claim_type</th>\n",
       "      <th>claim_amount</th>\n",
       "      <th>total_policy_claims</th>\n",
       "      <th>fraudulent</th>\n",
       "      <th>CUST_ID</th>\n",
       "      <th>gender</th>\n",
       "      <th>DateOfBirth</th>\n",
       "      <th>State</th>\n",
       "      <th>Contact</th>\n",
       "      <th>Segment</th>\n",
       "    </tr>\n",
       "  </thead>\n",
       "  <tbody>\n",
       "    <tr>\n",
       "      <th>0</th>\n",
       "      <td>54004764</td>\n",
       "      <td>21868593</td>\n",
       "      <td>Driver error</td>\n",
       "      <td>11/27/2017</td>\n",
       "      <td>Auto</td>\n",
       "      <td>No</td>\n",
       "      <td>Material only</td>\n",
       "      <td>$2980</td>\n",
       "      <td>1.0</td>\n",
       "      <td>No</td>\n",
       "      <td>21868593</td>\n",
       "      <td>Female</td>\n",
       "      <td>12-Jan-79</td>\n",
       "      <td>VT</td>\n",
       "      <td>789-916-8172</td>\n",
       "      <td>Platinum</td>\n",
       "    </tr>\n",
       "    <tr>\n",
       "      <th>1</th>\n",
       "      <td>33985796</td>\n",
       "      <td>75740424</td>\n",
       "      <td>Crime</td>\n",
       "      <td>10/03/2018</td>\n",
       "      <td>Home</td>\n",
       "      <td>Unknown</td>\n",
       "      <td>Material only</td>\n",
       "      <td>$2980</td>\n",
       "      <td>3.0</td>\n",
       "      <td>No</td>\n",
       "      <td>75740424</td>\n",
       "      <td>Female</td>\n",
       "      <td>13-Jan-70</td>\n",
       "      <td>ME</td>\n",
       "      <td>265-543-1264</td>\n",
       "      <td>Silver</td>\n",
       "    </tr>\n",
       "    <tr>\n",
       "      <th>2</th>\n",
       "      <td>53522022</td>\n",
       "      <td>30308357</td>\n",
       "      <td>Other driver error</td>\n",
       "      <td>02/02/2018</td>\n",
       "      <td>Auto</td>\n",
       "      <td>No</td>\n",
       "      <td>Material only</td>\n",
       "      <td>$3369.5</td>\n",
       "      <td>1.0</td>\n",
       "      <td>Yes</td>\n",
       "      <td>30308357</td>\n",
       "      <td>Female</td>\n",
       "      <td>11-Mar-84</td>\n",
       "      <td>TN</td>\n",
       "      <td>798-631-4758</td>\n",
       "      <td>Silver</td>\n",
       "    </tr>\n",
       "    <tr>\n",
       "      <th>3</th>\n",
       "      <td>13015401</td>\n",
       "      <td>47830476</td>\n",
       "      <td>Natural causes</td>\n",
       "      <td>06/17/2018</td>\n",
       "      <td>Auto</td>\n",
       "      <td>No</td>\n",
       "      <td>Material only</td>\n",
       "      <td>$1680</td>\n",
       "      <td>1.0</td>\n",
       "      <td>No</td>\n",
       "      <td>47830476</td>\n",
       "      <td>Female</td>\n",
       "      <td>01-May-86</td>\n",
       "      <td>MA</td>\n",
       "      <td>413-187-7945</td>\n",
       "      <td>Silver</td>\n",
       "    </tr>\n",
       "    <tr>\n",
       "      <th>4</th>\n",
       "      <td>22890252</td>\n",
       "      <td>19269962</td>\n",
       "      <td>Crime</td>\n",
       "      <td>01/13/2018</td>\n",
       "      <td>Auto</td>\n",
       "      <td>No</td>\n",
       "      <td>Material only</td>\n",
       "      <td>$2680</td>\n",
       "      <td>1.0</td>\n",
       "      <td>No</td>\n",
       "      <td>19269962</td>\n",
       "      <td>Male</td>\n",
       "      <td>13-May-77</td>\n",
       "      <td>NV</td>\n",
       "      <td>956-871-8691</td>\n",
       "      <td>Gold</td>\n",
       "    </tr>\n",
       "  </tbody>\n",
       "</table>\n",
       "</div>"
      ],
      "text/plain": [
       "   claim_id  customer_id      incident_cause  claim_date claim_area  \\\n",
       "0  54004764     21868593        Driver error  11/27/2017       Auto   \n",
       "1  33985796     75740424               Crime  10/03/2018       Home   \n",
       "2  53522022     30308357  Other driver error  02/02/2018       Auto   \n",
       "3  13015401     47830476      Natural causes  06/17/2018       Auto   \n",
       "4  22890252     19269962               Crime  01/13/2018       Auto   \n",
       "\n",
       "  police_report     claim_type claim_amount  total_policy_claims fraudulent  \\\n",
       "0            No  Material only        $2980                  1.0         No   \n",
       "1       Unknown  Material only        $2980                  3.0         No   \n",
       "2            No  Material only      $3369.5                  1.0        Yes   \n",
       "3            No  Material only        $1680                  1.0         No   \n",
       "4            No  Material only        $2680                  1.0         No   \n",
       "\n",
       "    CUST_ID  gender DateOfBirth State       Contact   Segment  \n",
       "0  21868593  Female   12-Jan-79    VT  789-916-8172  Platinum  \n",
       "1  75740424  Female   13-Jan-70    ME  265-543-1264    Silver  \n",
       "2  30308357  Female   11-Mar-84    TN  798-631-4758    Silver  \n",
       "3  47830476  Female   01-May-86    MA  413-187-7945    Silver  \n",
       "4  19269962    Male   13-May-77    NV  956-871-8691      Gold  "
      ]
     },
     "execution_count": 222,
     "metadata": {},
     "output_type": "execute_result"
    }
   ],
   "source": [
    "cust_claims=pd.merge(left=claims, right=cust_data, left_on='customer_id', right_on='CUST_ID', how='inner')\n",
    "                                                # or we can also use:\n",
    "#cust_claims=claims.merge(cust_data, left_on='customer_id', right_on='CUST_ID', how='left')\n",
    "\n",
    "cust_claims.head()"
   ]
  },
  {
   "cell_type": "markdown",
   "id": "1bef4738-fe29-4d69-9c87-7e9a33cc6f75",
   "metadata": {},
   "source": [
    "### 2. Perform a data audit for the datatypes and find out if there are any mismatch within the current datatypes of the columns and their business significance."
   ]
  },
  {
   "cell_type": "code",
   "execution_count": 223,
   "id": "071e7b5a-cfca-4d80-9dce-b2783abecee3",
   "metadata": {},
   "outputs": [
    {
     "name": "stdout",
     "output_type": "stream",
     "text": [
      "<class 'pandas.core.frame.DataFrame'>\n",
      "RangeIndex: 1085 entries, 0 to 1084\n",
      "Data columns (total 16 columns):\n",
      " #   Column               Non-Null Count  Dtype  \n",
      "---  ------               --------------  -----  \n",
      " 0   claim_id             1085 non-null   int64  \n",
      " 1   customer_id          1085 non-null   int64  \n",
      " 2   incident_cause       1085 non-null   object \n",
      " 3   claim_date           1085 non-null   object \n",
      " 4   claim_area           1085 non-null   object \n",
      " 5   police_report        1085 non-null   object \n",
      " 6   claim_type           1085 non-null   object \n",
      " 7   claim_amount         1020 non-null   object \n",
      " 8   total_policy_claims  1075 non-null   float64\n",
      " 9   fraudulent           1085 non-null   object \n",
      " 10  CUST_ID              1085 non-null   int64  \n",
      " 11  gender               1085 non-null   object \n",
      " 12  DateOfBirth          1085 non-null   object \n",
      " 13  State                1085 non-null   object \n",
      " 14  Contact              1085 non-null   object \n",
      " 15  Segment              1085 non-null   object \n",
      "dtypes: float64(1), int64(3), object(12)\n",
      "memory usage: 135.8+ KB\n"
     ]
    }
   ],
   "source": [
    "cust_claims.info()"
   ]
  },
  {
   "cell_type": "code",
   "execution_count": 224,
   "id": "ae58f1f2-8036-40f2-845e-160f5d7073a8",
   "metadata": {},
   "outputs": [],
   "source": [
    "cust_claims['claim_date']=pd.to_datetime(cust_claims['claim_date'],format='mixed')\n",
    "cust_claims['DateOfBirth']=pd.to_datetime(cust_claims['DateOfBirth'],format='mixed')"
   ]
  },
  {
   "cell_type": "markdown",
   "id": "b0503844-b7b5-4aa6-8688-092b0c37593e",
   "metadata": {},
   "source": [
    "### 3. Convert the column claim_amount to numeric. Use the appropriate modules/attributes to remove the $ sign"
   ]
  },
  {
   "cell_type": "code",
   "execution_count": 225,
   "id": "ff0e1c08-27eb-4d1e-8c2c-fde413b9d4a9",
   "metadata": {},
   "outputs": [],
   "source": [
    "#cust_claims['claim_amount']= cust_claims['claim_amount'].str.replace('$','').astype('float64')\n",
    "                                #or \n",
    "cust_claims['claim_amount']=cust_claims['claim_amount'].str.lstrip('$').astype('float64')"
   ]
  },
  {
   "cell_type": "code",
   "execution_count": 226,
   "id": "ccbd9367-e27e-4600-90bb-d0f2a577c3bd",
   "metadata": {},
   "outputs": [
    {
     "data": {
      "text/plain": [
       "claim_id                        int64\n",
       "customer_id                     int64\n",
       "incident_cause                 object\n",
       "claim_date             datetime64[ns]\n",
       "claim_area                     object\n",
       "police_report                  object\n",
       "claim_type                     object\n",
       "claim_amount                  float64\n",
       "total_policy_claims           float64\n",
       "fraudulent                     object\n",
       "CUST_ID                         int64\n",
       "gender                         object\n",
       "DateOfBirth            datetime64[ns]\n",
       "State                          object\n",
       "Contact                        object\n",
       "Segment                        object\n",
       "dtype: object"
      ]
     },
     "execution_count": 226,
     "metadata": {},
     "output_type": "execute_result"
    }
   ],
   "source": [
    "cust_claims.dtypes"
   ]
  },
  {
   "cell_type": "markdown",
   "id": "7a640aed-bee1-4eaa-8b9a-cb3d9a9075e0",
   "metadata": {},
   "source": [
    "### 4.Check for missing values and impute the missing values with an appropriate value. "
   ]
  },
  {
   "cell_type": "code",
   "execution_count": 227,
   "id": "307e7b69-a6c5-4297-8fe0-133511c541e4",
   "metadata": {},
   "outputs": [
    {
     "data": {
      "text/plain": [
       "claim_id               0.000000\n",
       "customer_id            0.000000\n",
       "incident_cause         0.000000\n",
       "claim_date             0.000000\n",
       "claim_area             0.000000\n",
       "police_report          0.000000\n",
       "claim_type             0.000000\n",
       "claim_amount           0.059908\n",
       "total_policy_claims    0.009217\n",
       "fraudulent             0.000000\n",
       "CUST_ID                0.000000\n",
       "gender                 0.000000\n",
       "DateOfBirth            0.000000\n",
       "State                  0.000000\n",
       "Contact                0.000000\n",
       "Segment                0.000000\n",
       "dtype: float64"
      ]
     },
     "execution_count": 227,
     "metadata": {},
     "output_type": "execute_result"
    }
   ],
   "source": [
    "cust_claims.isna().sum()/cust_claims.shape[0]"
   ]
  },
  {
   "cell_type": "code",
   "execution_count": 228,
   "id": "c9383b0d-af48-4a54-b272-056960bc82d2",
   "metadata": {},
   "outputs": [
    {
     "data": {
      "text/html": [
       "<div>\n",
       "<style scoped>\n",
       "    .dataframe tbody tr th:only-of-type {\n",
       "        vertical-align: middle;\n",
       "    }\n",
       "\n",
       "    .dataframe tbody tr th {\n",
       "        vertical-align: top;\n",
       "    }\n",
       "\n",
       "    .dataframe thead th {\n",
       "        text-align: right;\n",
       "    }\n",
       "</style>\n",
       "<table border=\"1\" class=\"dataframe\">\n",
       "  <thead>\n",
       "    <tr style=\"text-align: right;\">\n",
       "      <th></th>\n",
       "      <th>claim_id</th>\n",
       "      <th>customer_id</th>\n",
       "      <th>incident_cause</th>\n",
       "      <th>claim_date</th>\n",
       "      <th>claim_area</th>\n",
       "      <th>police_report</th>\n",
       "      <th>claim_type</th>\n",
       "      <th>claim_amount</th>\n",
       "      <th>total_policy_claims</th>\n",
       "      <th>fraudulent</th>\n",
       "      <th>CUST_ID</th>\n",
       "      <th>gender</th>\n",
       "      <th>DateOfBirth</th>\n",
       "      <th>State</th>\n",
       "      <th>Contact</th>\n",
       "      <th>Segment</th>\n",
       "    </tr>\n",
       "  </thead>\n",
       "  <tbody>\n",
       "    <tr>\n",
       "      <th>20</th>\n",
       "      <td>32630720</td>\n",
       "      <td>75584003</td>\n",
       "      <td>Crime</td>\n",
       "      <td>2017-02-03</td>\n",
       "      <td>Auto</td>\n",
       "      <td>No</td>\n",
       "      <td>Material only</td>\n",
       "      <td>NaN</td>\n",
       "      <td>1.0</td>\n",
       "      <td>No</td>\n",
       "      <td>75584003</td>\n",
       "      <td>Female</td>\n",
       "      <td>2067-04-22</td>\n",
       "      <td>OK</td>\n",
       "      <td>723-418-3248</td>\n",
       "      <td>Silver</td>\n",
       "    </tr>\n",
       "    <tr>\n",
       "      <th>22</th>\n",
       "      <td>46956597</td>\n",
       "      <td>10665308</td>\n",
       "      <td>Natural causes</td>\n",
       "      <td>2018-07-20</td>\n",
       "      <td>Auto</td>\n",
       "      <td>No</td>\n",
       "      <td>Material only</td>\n",
       "      <td>NaN</td>\n",
       "      <td>1.0</td>\n",
       "      <td>No</td>\n",
       "      <td>10665308</td>\n",
       "      <td>Male</td>\n",
       "      <td>1999-06-21</td>\n",
       "      <td>CT</td>\n",
       "      <td>324-971-8395</td>\n",
       "      <td>Silver</td>\n",
       "    </tr>\n",
       "    <tr>\n",
       "      <th>29</th>\n",
       "      <td>18210740</td>\n",
       "      <td>80379865</td>\n",
       "      <td>Natural causes</td>\n",
       "      <td>2018-02-09</td>\n",
       "      <td>Auto</td>\n",
       "      <td>No</td>\n",
       "      <td>Injury only</td>\n",
       "      <td>18580.0</td>\n",
       "      <td>NaN</td>\n",
       "      <td>No</td>\n",
       "      <td>80379865</td>\n",
       "      <td>Male</td>\n",
       "      <td>2069-02-27</td>\n",
       "      <td>NM</td>\n",
       "      <td>427-513-8479</td>\n",
       "      <td>Gold</td>\n",
       "    </tr>\n",
       "    <tr>\n",
       "      <th>47</th>\n",
       "      <td>28636278</td>\n",
       "      <td>31012778</td>\n",
       "      <td>Other causes</td>\n",
       "      <td>2018-03-01</td>\n",
       "      <td>Auto</td>\n",
       "      <td>No</td>\n",
       "      <td>Material only</td>\n",
       "      <td>NaN</td>\n",
       "      <td>5.0</td>\n",
       "      <td>Yes</td>\n",
       "      <td>31012778</td>\n",
       "      <td>Female</td>\n",
       "      <td>1993-06-09</td>\n",
       "      <td>MA</td>\n",
       "      <td>328-683-8359</td>\n",
       "      <td>Gold</td>\n",
       "    </tr>\n",
       "    <tr>\n",
       "      <th>48</th>\n",
       "      <td>96749077</td>\n",
       "      <td>84571128</td>\n",
       "      <td>Natural causes</td>\n",
       "      <td>2017-05-15</td>\n",
       "      <td>Auto</td>\n",
       "      <td>No</td>\n",
       "      <td>Material only</td>\n",
       "      <td>NaN</td>\n",
       "      <td>1.0</td>\n",
       "      <td>Yes</td>\n",
       "      <td>84571128</td>\n",
       "      <td>Female</td>\n",
       "      <td>1995-08-16</td>\n",
       "      <td>ME</td>\n",
       "      <td>946-639-5932</td>\n",
       "      <td>Gold</td>\n",
       "    </tr>\n",
       "    <tr>\n",
       "      <th>...</th>\n",
       "      <td>...</td>\n",
       "      <td>...</td>\n",
       "      <td>...</td>\n",
       "      <td>...</td>\n",
       "      <td>...</td>\n",
       "      <td>...</td>\n",
       "      <td>...</td>\n",
       "      <td>...</td>\n",
       "      <td>...</td>\n",
       "      <td>...</td>\n",
       "      <td>...</td>\n",
       "      <td>...</td>\n",
       "      <td>...</td>\n",
       "      <td>...</td>\n",
       "      <td>...</td>\n",
       "      <td>...</td>\n",
       "    </tr>\n",
       "    <tr>\n",
       "      <th>1016</th>\n",
       "      <td>12612736</td>\n",
       "      <td>74787956</td>\n",
       "      <td>Driver error</td>\n",
       "      <td>2017-09-14</td>\n",
       "      <td>Auto</td>\n",
       "      <td>Unknown</td>\n",
       "      <td>Material only</td>\n",
       "      <td>NaN</td>\n",
       "      <td>1.0</td>\n",
       "      <td>No</td>\n",
       "      <td>74787956</td>\n",
       "      <td>Male</td>\n",
       "      <td>1989-06-19</td>\n",
       "      <td>TX</td>\n",
       "      <td>679-514-5894</td>\n",
       "      <td>Gold</td>\n",
       "    </tr>\n",
       "    <tr>\n",
       "      <th>1025</th>\n",
       "      <td>54291209</td>\n",
       "      <td>28528424</td>\n",
       "      <td>Other causes</td>\n",
       "      <td>2018-07-14</td>\n",
       "      <td>Auto</td>\n",
       "      <td>No</td>\n",
       "      <td>Material only</td>\n",
       "      <td>NaN</td>\n",
       "      <td>1.0</td>\n",
       "      <td>No</td>\n",
       "      <td>28528424</td>\n",
       "      <td>Female</td>\n",
       "      <td>2060-03-02</td>\n",
       "      <td>ND</td>\n",
       "      <td>592-738-9582</td>\n",
       "      <td>Platinum</td>\n",
       "    </tr>\n",
       "    <tr>\n",
       "      <th>1036</th>\n",
       "      <td>83884815</td>\n",
       "      <td>71676845</td>\n",
       "      <td>Other driver error</td>\n",
       "      <td>2018-07-27</td>\n",
       "      <td>Auto</td>\n",
       "      <td>No</td>\n",
       "      <td>Material only</td>\n",
       "      <td>NaN</td>\n",
       "      <td>3.0</td>\n",
       "      <td>No</td>\n",
       "      <td>71676845</td>\n",
       "      <td>Male</td>\n",
       "      <td>1994-04-07</td>\n",
       "      <td>IN</td>\n",
       "      <td>549-982-1984</td>\n",
       "      <td>Silver</td>\n",
       "    </tr>\n",
       "    <tr>\n",
       "      <th>1042</th>\n",
       "      <td>24082779</td>\n",
       "      <td>74207825</td>\n",
       "      <td>Other driver error</td>\n",
       "      <td>2018-04-24</td>\n",
       "      <td>Home</td>\n",
       "      <td>No</td>\n",
       "      <td>Material only</td>\n",
       "      <td>2380.0</td>\n",
       "      <td>NaN</td>\n",
       "      <td>No</td>\n",
       "      <td>74207825</td>\n",
       "      <td>Female</td>\n",
       "      <td>2065-03-15</td>\n",
       "      <td>MI</td>\n",
       "      <td>173-637-9613</td>\n",
       "      <td>Platinum</td>\n",
       "    </tr>\n",
       "    <tr>\n",
       "      <th>1051</th>\n",
       "      <td>93043462</td>\n",
       "      <td>81634435</td>\n",
       "      <td>Other driver error</td>\n",
       "      <td>2017-01-27</td>\n",
       "      <td>Home</td>\n",
       "      <td>Unknown</td>\n",
       "      <td>Material and injury</td>\n",
       "      <td>NaN</td>\n",
       "      <td>1.0</td>\n",
       "      <td>No</td>\n",
       "      <td>81634435</td>\n",
       "      <td>Male</td>\n",
       "      <td>1988-07-30</td>\n",
       "      <td>AR</td>\n",
       "      <td>937-675-5842</td>\n",
       "      <td>Gold</td>\n",
       "    </tr>\n",
       "  </tbody>\n",
       "</table>\n",
       "<p>74 rows × 16 columns</p>\n",
       "</div>"
      ],
      "text/plain": [
       "      claim_id  customer_id      incident_cause claim_date claim_area  \\\n",
       "20    32630720     75584003               Crime 2017-02-03       Auto   \n",
       "22    46956597     10665308      Natural causes 2018-07-20       Auto   \n",
       "29    18210740     80379865      Natural causes 2018-02-09       Auto   \n",
       "47    28636278     31012778        Other causes 2018-03-01       Auto   \n",
       "48    96749077     84571128      Natural causes 2017-05-15       Auto   \n",
       "...        ...          ...                 ...        ...        ...   \n",
       "1016  12612736     74787956        Driver error 2017-09-14       Auto   \n",
       "1025  54291209     28528424        Other causes 2018-07-14       Auto   \n",
       "1036  83884815     71676845  Other driver error 2018-07-27       Auto   \n",
       "1042  24082779     74207825  Other driver error 2018-04-24       Home   \n",
       "1051  93043462     81634435  Other driver error 2017-01-27       Home   \n",
       "\n",
       "     police_report           claim_type  claim_amount  total_policy_claims  \\\n",
       "20              No        Material only           NaN                  1.0   \n",
       "22              No        Material only           NaN                  1.0   \n",
       "29              No          Injury only       18580.0                  NaN   \n",
       "47              No        Material only           NaN                  5.0   \n",
       "48              No        Material only           NaN                  1.0   \n",
       "...            ...                  ...           ...                  ...   \n",
       "1016       Unknown        Material only           NaN                  1.0   \n",
       "1025            No        Material only           NaN                  1.0   \n",
       "1036            No        Material only           NaN                  3.0   \n",
       "1042            No        Material only        2380.0                  NaN   \n",
       "1051       Unknown  Material and injury           NaN                  1.0   \n",
       "\n",
       "     fraudulent   CUST_ID  gender DateOfBirth State       Contact   Segment  \n",
       "20           No  75584003  Female  2067-04-22    OK  723-418-3248    Silver  \n",
       "22           No  10665308    Male  1999-06-21    CT  324-971-8395    Silver  \n",
       "29           No  80379865    Male  2069-02-27    NM  427-513-8479      Gold  \n",
       "47          Yes  31012778  Female  1993-06-09    MA  328-683-8359      Gold  \n",
       "48          Yes  84571128  Female  1995-08-16    ME  946-639-5932      Gold  \n",
       "...         ...       ...     ...         ...   ...           ...       ...  \n",
       "1016         No  74787956    Male  1989-06-19    TX  679-514-5894      Gold  \n",
       "1025         No  28528424  Female  2060-03-02    ND  592-738-9582  Platinum  \n",
       "1036         No  71676845    Male  1994-04-07    IN  549-982-1984    Silver  \n",
       "1042         No  74207825  Female  2065-03-15    MI  173-637-9613  Platinum  \n",
       "1051         No  81634435    Male  1988-07-30    AR  937-675-5842      Gold  \n",
       "\n",
       "[74 rows x 16 columns]"
      ]
     },
     "execution_count": 228,
     "metadata": {},
     "output_type": "execute_result"
    }
   ],
   "source": [
    "cust_claims[cust_claims[['claim_amount','total_policy_claims']].isna().any(axis=1)]"
   ]
  },
  {
   "cell_type": "code",
   "execution_count": 229,
   "id": "3cdcce14-ec12-421a-a2a4-9a7abd0193f0",
   "metadata": {},
   "outputs": [],
   "source": [
    "# code that give error is :-\n",
    "# cust_claims['total_policy_claims'].fillna(cust_claims['total_policy_claims'].mode(),inplace=True) \n",
    "# why it is giving error because:\n",
    "            #The mode() function returns a Series, not a single value, because there may be multiple modes in the data.\n",
    "                #You need to access the first mode explicitly using .iloc[0] or handle multiple modes appropriately.\n"
   ]
  },
  {
   "cell_type": "code",
   "execution_count": 230,
   "id": "7d945cf1-2aa5-4780-9d25-d1ebdd0fdc3e",
   "metadata": {},
   "outputs": [],
   "source": [
    "cust_claims['claim_amount']= cust_claims['claim_amount'].fillna(value=cust_claims['claim_amount'].mean() )\n",
    "cust_claims['total_policy_claims']= cust_claims['total_policy_claims'].fillna(value=cust_claims['total_policy_claims'].mode()[0] )"
   ]
  },
  {
   "cell_type": "code",
   "execution_count": 231,
   "id": "df3b2e72-8294-47b3-a79f-b04f692887ad",
   "metadata": {},
   "outputs": [
    {
     "data": {
      "text/plain": [
       "claim_id               0\n",
       "customer_id            0\n",
       "incident_cause         0\n",
       "claim_date             0\n",
       "claim_area             0\n",
       "police_report          0\n",
       "claim_type             0\n",
       "claim_amount           0\n",
       "total_policy_claims    0\n",
       "fraudulent             0\n",
       "CUST_ID                0\n",
       "gender                 0\n",
       "DateOfBirth            0\n",
       "State                  0\n",
       "Contact                0\n",
       "Segment                0\n",
       "dtype: int64"
      ]
     },
     "execution_count": 231,
     "metadata": {},
     "output_type": "execute_result"
    }
   ],
   "source": [
    "cust_claims.isna().sum()"
   ]
  },
  {
   "cell_type": "code",
   "execution_count": 232,
   "id": "44f11948-78fb-4830-8e0b-2c6a12a96300",
   "metadata": {},
   "outputs": [
    {
     "data": {
      "text/plain": [
       "claim_id               1085\n",
       "customer_id            1078\n",
       "incident_cause            5\n",
       "claim_date              100\n",
       "claim_area                2\n",
       "police_report             3\n",
       "claim_type                3\n",
       "claim_amount            677\n",
       "total_policy_claims       8\n",
       "fraudulent                2\n",
       "CUST_ID                1078\n",
       "gender                    2\n",
       "DateOfBirth            1078\n",
       "State                    50\n",
       "Contact                1078\n",
       "Segment                   3\n",
       "dtype: int64"
      ]
     },
     "execution_count": 232,
     "metadata": {},
     "output_type": "execute_result"
    }
   ],
   "source": [
    "cust_claims.nunique()"
   ]
  },
  {
   "cell_type": "code",
   "execution_count": 233,
   "id": "1081745e-a988-4768-972c-dc85405a1e3c",
   "metadata": {},
   "outputs": [
    {
     "data": {
      "text/plain": [
       "total_policy_claims\n",
       "1.0    795\n",
       "2.0    105\n",
       "3.0     86\n",
       "4.0     59\n",
       "5.0     27\n",
       "6.0     10\n",
       "7.0      2\n",
       "8.0      1\n",
       "Name: count, dtype: int64"
      ]
     },
     "execution_count": 233,
     "metadata": {},
     "output_type": "execute_result"
    }
   ],
   "source": [
    "cust_claims.total_policy_claims.value_counts()"
   ]
  },
  {
   "cell_type": "code",
   "execution_count": 234,
   "id": "8919aee0-ba41-4a34-b2ee-c21034dd2803",
   "metadata": {},
   "outputs": [
    {
     "data": {
      "text/plain": [
       "array(['Material only', 'Injury only', 'Material and injury'],\n",
       "      dtype=object)"
      ]
     },
     "execution_count": 234,
     "metadata": {},
     "output_type": "execute_result"
    }
   ],
   "source": [
    "cust_claims.claim_type.unique()"
   ]
  },
  {
   "cell_type": "code",
   "execution_count": 235,
   "id": "7afa982d-3e1b-4071-bfa1-0dc31bd25b82",
   "metadata": {},
   "outputs": [
    {
     "data": {
      "text/plain": [
       "array(['No', 'Unknown', 'Yes'], dtype=object)"
      ]
     },
     "execution_count": 235,
     "metadata": {},
     "output_type": "execute_result"
    }
   ],
   "source": [
    "cust_claims['police_report'].unique()"
   ]
  },
  {
   "cell_type": "markdown",
   "id": "1846a7c9-e7f3-4041-9063-02e68c675e8d",
   "metadata": {},
   "source": [
    "### 5. Of all the injury claims, some of them have gone unreported with the police. Create an alert flag (1,0) for all such claims."
   ]
  },
  {
   "cell_type": "code",
   "execution_count": 236,
   "id": "b960cbab-20f9-4a13-ae30-8c5c83b77a9b",
   "metadata": {},
   "outputs": [
    {
     "data": {
      "text/html": [
       "<div>\n",
       "<style scoped>\n",
       "    .dataframe tbody tr th:only-of-type {\n",
       "        vertical-align: middle;\n",
       "    }\n",
       "\n",
       "    .dataframe tbody tr th {\n",
       "        vertical-align: top;\n",
       "    }\n",
       "\n",
       "    .dataframe thead th {\n",
       "        text-align: right;\n",
       "    }\n",
       "</style>\n",
       "<table border=\"1\" class=\"dataframe\">\n",
       "  <thead>\n",
       "    <tr style=\"text-align: right;\">\n",
       "      <th></th>\n",
       "      <th>claim_id</th>\n",
       "      <th>customer_id</th>\n",
       "      <th>incident_cause</th>\n",
       "      <th>claim_date</th>\n",
       "      <th>claim_area</th>\n",
       "      <th>police_report</th>\n",
       "      <th>claim_type</th>\n",
       "      <th>claim_amount</th>\n",
       "      <th>total_policy_claims</th>\n",
       "      <th>fraudulent</th>\n",
       "      <th>CUST_ID</th>\n",
       "      <th>gender</th>\n",
       "      <th>DateOfBirth</th>\n",
       "      <th>State</th>\n",
       "      <th>Contact</th>\n",
       "      <th>Segment</th>\n",
       "      <th>injury_unreported_flag</th>\n",
       "    </tr>\n",
       "  </thead>\n",
       "  <tbody>\n",
       "    <tr>\n",
       "      <th>0</th>\n",
       "      <td>54004764</td>\n",
       "      <td>21868593</td>\n",
       "      <td>Driver error</td>\n",
       "      <td>2017-11-27</td>\n",
       "      <td>Auto</td>\n",
       "      <td>No</td>\n",
       "      <td>Material only</td>\n",
       "      <td>2980.0</td>\n",
       "      <td>1.0</td>\n",
       "      <td>No</td>\n",
       "      <td>21868593</td>\n",
       "      <td>Female</td>\n",
       "      <td>1979-01-12</td>\n",
       "      <td>VT</td>\n",
       "      <td>789-916-8172</td>\n",
       "      <td>Platinum</td>\n",
       "      <td>0</td>\n",
       "    </tr>\n",
       "    <tr>\n",
       "      <th>1</th>\n",
       "      <td>33985796</td>\n",
       "      <td>75740424</td>\n",
       "      <td>Crime</td>\n",
       "      <td>2018-10-03</td>\n",
       "      <td>Home</td>\n",
       "      <td>Unknown</td>\n",
       "      <td>Material only</td>\n",
       "      <td>2980.0</td>\n",
       "      <td>3.0</td>\n",
       "      <td>No</td>\n",
       "      <td>75740424</td>\n",
       "      <td>Female</td>\n",
       "      <td>2070-01-13</td>\n",
       "      <td>ME</td>\n",
       "      <td>265-543-1264</td>\n",
       "      <td>Silver</td>\n",
       "      <td>0</td>\n",
       "    </tr>\n",
       "    <tr>\n",
       "      <th>2</th>\n",
       "      <td>53522022</td>\n",
       "      <td>30308357</td>\n",
       "      <td>Other driver error</td>\n",
       "      <td>2018-02-02</td>\n",
       "      <td>Auto</td>\n",
       "      <td>No</td>\n",
       "      <td>Material only</td>\n",
       "      <td>3369.5</td>\n",
       "      <td>1.0</td>\n",
       "      <td>Yes</td>\n",
       "      <td>30308357</td>\n",
       "      <td>Female</td>\n",
       "      <td>1984-03-11</td>\n",
       "      <td>TN</td>\n",
       "      <td>798-631-4758</td>\n",
       "      <td>Silver</td>\n",
       "      <td>0</td>\n",
       "    </tr>\n",
       "    <tr>\n",
       "      <th>3</th>\n",
       "      <td>13015401</td>\n",
       "      <td>47830476</td>\n",
       "      <td>Natural causes</td>\n",
       "      <td>2018-06-17</td>\n",
       "      <td>Auto</td>\n",
       "      <td>No</td>\n",
       "      <td>Material only</td>\n",
       "      <td>1680.0</td>\n",
       "      <td>1.0</td>\n",
       "      <td>No</td>\n",
       "      <td>47830476</td>\n",
       "      <td>Female</td>\n",
       "      <td>1986-05-01</td>\n",
       "      <td>MA</td>\n",
       "      <td>413-187-7945</td>\n",
       "      <td>Silver</td>\n",
       "      <td>0</td>\n",
       "    </tr>\n",
       "    <tr>\n",
       "      <th>4</th>\n",
       "      <td>22890252</td>\n",
       "      <td>19269962</td>\n",
       "      <td>Crime</td>\n",
       "      <td>2018-01-13</td>\n",
       "      <td>Auto</td>\n",
       "      <td>No</td>\n",
       "      <td>Material only</td>\n",
       "      <td>2680.0</td>\n",
       "      <td>1.0</td>\n",
       "      <td>No</td>\n",
       "      <td>19269962</td>\n",
       "      <td>Male</td>\n",
       "      <td>1977-05-13</td>\n",
       "      <td>NV</td>\n",
       "      <td>956-871-8691</td>\n",
       "      <td>Gold</td>\n",
       "      <td>0</td>\n",
       "    </tr>\n",
       "    <tr>\n",
       "      <th>5</th>\n",
       "      <td>24050443</td>\n",
       "      <td>21831191</td>\n",
       "      <td>Other driver error</td>\n",
       "      <td>2017-10-04</td>\n",
       "      <td>Auto</td>\n",
       "      <td>No</td>\n",
       "      <td>Injury only</td>\n",
       "      <td>38306.5</td>\n",
       "      <td>3.0</td>\n",
       "      <td>Yes</td>\n",
       "      <td>21831191</td>\n",
       "      <td>Male</td>\n",
       "      <td>1977-05-17</td>\n",
       "      <td>NH</td>\n",
       "      <td>419-712-8513</td>\n",
       "      <td>Gold</td>\n",
       "      <td>1</td>\n",
       "    </tr>\n",
       "    <tr>\n",
       "      <th>6</th>\n",
       "      <td>12878692</td>\n",
       "      <td>18401412</td>\n",
       "      <td>Driver error</td>\n",
       "      <td>2018-01-13</td>\n",
       "      <td>Auto</td>\n",
       "      <td>No</td>\n",
       "      <td>Material only</td>\n",
       "      <td>1730.0</td>\n",
       "      <td>4.0</td>\n",
       "      <td>No</td>\n",
       "      <td>18401412</td>\n",
       "      <td>Male</td>\n",
       "      <td>1999-03-02</td>\n",
       "      <td>AR</td>\n",
       "      <td>752-398-2914</td>\n",
       "      <td>Gold</td>\n",
       "      <td>0</td>\n",
       "    </tr>\n",
       "    <tr>\n",
       "      <th>7</th>\n",
       "      <td>27026412</td>\n",
       "      <td>73486606</td>\n",
       "      <td>Natural causes</td>\n",
       "      <td>2018-04-10</td>\n",
       "      <td>Auto</td>\n",
       "      <td>No</td>\n",
       "      <td>Material only</td>\n",
       "      <td>1160.0</td>\n",
       "      <td>3.0</td>\n",
       "      <td>No</td>\n",
       "      <td>73486606</td>\n",
       "      <td>Male</td>\n",
       "      <td>1999-10-25</td>\n",
       "      <td>AK</td>\n",
       "      <td>256-968-9172</td>\n",
       "      <td>Silver</td>\n",
       "      <td>0</td>\n",
       "    </tr>\n",
       "    <tr>\n",
       "      <th>8</th>\n",
       "      <td>43908336</td>\n",
       "      <td>32813689</td>\n",
       "      <td>Crime</td>\n",
       "      <td>2018-02-15</td>\n",
       "      <td>Auto</td>\n",
       "      <td>Unknown</td>\n",
       "      <td>Material only</td>\n",
       "      <td>2620.0</td>\n",
       "      <td>1.0</td>\n",
       "      <td>No</td>\n",
       "      <td>32813689</td>\n",
       "      <td>Male</td>\n",
       "      <td>1993-10-12</td>\n",
       "      <td>ID</td>\n",
       "      <td>142-324-7481</td>\n",
       "      <td>Silver</td>\n",
       "      <td>0</td>\n",
       "    </tr>\n",
       "    <tr>\n",
       "      <th>9</th>\n",
       "      <td>63246959</td>\n",
       "      <td>33507197</td>\n",
       "      <td>Crime</td>\n",
       "      <td>2017-07-22</td>\n",
       "      <td>Auto</td>\n",
       "      <td>No</td>\n",
       "      <td>Material only</td>\n",
       "      <td>2748.5</td>\n",
       "      <td>2.0</td>\n",
       "      <td>Yes</td>\n",
       "      <td>33507197</td>\n",
       "      <td>Female</td>\n",
       "      <td>2066-09-09</td>\n",
       "      <td>RI</td>\n",
       "      <td>165-519-4583</td>\n",
       "      <td>Gold</td>\n",
       "      <td>0</td>\n",
       "    </tr>\n",
       "  </tbody>\n",
       "</table>\n",
       "</div>"
      ],
      "text/plain": [
       "   claim_id  customer_id      incident_cause claim_date claim_area  \\\n",
       "0  54004764     21868593        Driver error 2017-11-27       Auto   \n",
       "1  33985796     75740424               Crime 2018-10-03       Home   \n",
       "2  53522022     30308357  Other driver error 2018-02-02       Auto   \n",
       "3  13015401     47830476      Natural causes 2018-06-17       Auto   \n",
       "4  22890252     19269962               Crime 2018-01-13       Auto   \n",
       "5  24050443     21831191  Other driver error 2017-10-04       Auto   \n",
       "6  12878692     18401412        Driver error 2018-01-13       Auto   \n",
       "7  27026412     73486606      Natural causes 2018-04-10       Auto   \n",
       "8  43908336     32813689               Crime 2018-02-15       Auto   \n",
       "9  63246959     33507197               Crime 2017-07-22       Auto   \n",
       "\n",
       "  police_report     claim_type  claim_amount  total_policy_claims fraudulent  \\\n",
       "0            No  Material only        2980.0                  1.0         No   \n",
       "1       Unknown  Material only        2980.0                  3.0         No   \n",
       "2            No  Material only        3369.5                  1.0        Yes   \n",
       "3            No  Material only        1680.0                  1.0         No   \n",
       "4            No  Material only        2680.0                  1.0         No   \n",
       "5            No    Injury only       38306.5                  3.0        Yes   \n",
       "6            No  Material only        1730.0                  4.0         No   \n",
       "7            No  Material only        1160.0                  3.0         No   \n",
       "8       Unknown  Material only        2620.0                  1.0         No   \n",
       "9            No  Material only        2748.5                  2.0        Yes   \n",
       "\n",
       "    CUST_ID  gender DateOfBirth State       Contact   Segment  \\\n",
       "0  21868593  Female  1979-01-12    VT  789-916-8172  Platinum   \n",
       "1  75740424  Female  2070-01-13    ME  265-543-1264    Silver   \n",
       "2  30308357  Female  1984-03-11    TN  798-631-4758    Silver   \n",
       "3  47830476  Female  1986-05-01    MA  413-187-7945    Silver   \n",
       "4  19269962    Male  1977-05-13    NV  956-871-8691      Gold   \n",
       "5  21831191    Male  1977-05-17    NH  419-712-8513      Gold   \n",
       "6  18401412    Male  1999-03-02    AR  752-398-2914      Gold   \n",
       "7  73486606    Male  1999-10-25    AK  256-968-9172    Silver   \n",
       "8  32813689    Male  1993-10-12    ID  142-324-7481    Silver   \n",
       "9  33507197  Female  2066-09-09    RI  165-519-4583      Gold   \n",
       "\n",
       "   injury_unreported_flag  \n",
       "0                       0  \n",
       "1                       0  \n",
       "2                       0  \n",
       "3                       0  \n",
       "4                       0  \n",
       "5                       1  \n",
       "6                       0  \n",
       "7                       0  \n",
       "8                       0  \n",
       "9                       0  "
      ]
     },
     "execution_count": 236,
     "metadata": {},
     "output_type": "execute_result"
    }
   ],
   "source": [
    "cust_claims['injury_unreported_flag'] = np.where( (cust_claims['claim_type'].isin( ['Injury only', 'Material and injury'])) & \n",
    "                                              (cust_claims['police_report'] != 'Yes'), 1,0)         \n",
    "cust_claims.head(10)"
   ]
  },
  {
   "cell_type": "code",
   "execution_count": 237,
   "id": "745becf6-629c-40e1-bd15-1fcf5ab75191",
   "metadata": {},
   "outputs": [
    {
     "data": {
      "text/plain": [
       "(7, 7)"
      ]
     },
     "execution_count": 237,
     "metadata": {},
     "output_type": "execute_result"
    }
   ],
   "source": [
    "cust_claims.customer_id.duplicated().sum(),cust_claims.CUST_ID.duplicated().sum()"
   ]
  },
  {
   "cell_type": "code",
   "execution_count": 238,
   "id": "b71c648c-3393-4598-96e7-2d8fd8b7fe28",
   "metadata": {},
   "outputs": [
    {
     "data": {
      "text/plain": [
       "array([84147585, 85357756, 53539195, 30308357, 47830476, 19269962,\n",
       "       21831191], dtype=int64)"
      ]
     },
     "execution_count": 238,
     "metadata": {},
     "output_type": "execute_result"
    }
   ],
   "source": [
    "duplicate_ids=cust_claims.loc[cust_claims.customer_id.duplicated()==True,'customer_id'] \n",
    "duplicate_ids.values"
   ]
  },
  {
   "cell_type": "code",
   "execution_count": 239,
   "id": "ddb35fea-8d03-4564-aa7c-74e9be0a9627",
   "metadata": {},
   "outputs": [
    {
     "data": {
      "text/html": [
       "<div>\n",
       "<style scoped>\n",
       "    .dataframe tbody tr th:only-of-type {\n",
       "        vertical-align: middle;\n",
       "    }\n",
       "\n",
       "    .dataframe tbody tr th {\n",
       "        vertical-align: top;\n",
       "    }\n",
       "\n",
       "    .dataframe thead th {\n",
       "        text-align: right;\n",
       "    }\n",
       "</style>\n",
       "<table border=\"1\" class=\"dataframe\">\n",
       "  <thead>\n",
       "    <tr style=\"text-align: right;\">\n",
       "      <th></th>\n",
       "      <th>claim_id</th>\n",
       "      <th>customer_id</th>\n",
       "      <th>incident_cause</th>\n",
       "      <th>claim_date</th>\n",
       "      <th>claim_area</th>\n",
       "      <th>police_report</th>\n",
       "      <th>claim_type</th>\n",
       "      <th>claim_amount</th>\n",
       "      <th>total_policy_claims</th>\n",
       "      <th>fraudulent</th>\n",
       "      <th>CUST_ID</th>\n",
       "      <th>gender</th>\n",
       "      <th>DateOfBirth</th>\n",
       "      <th>State</th>\n",
       "      <th>Contact</th>\n",
       "      <th>Segment</th>\n",
       "      <th>injury_unreported_flag</th>\n",
       "    </tr>\n",
       "  </thead>\n",
       "  <tbody>\n",
       "    <tr>\n",
       "      <th>4</th>\n",
       "      <td>22890252</td>\n",
       "      <td>19269962</td>\n",
       "      <td>Crime</td>\n",
       "      <td>2018-01-13</td>\n",
       "      <td>Auto</td>\n",
       "      <td>No</td>\n",
       "      <td>Material only</td>\n",
       "      <td>2680.0</td>\n",
       "      <td>1.0</td>\n",
       "      <td>No</td>\n",
       "      <td>19269962</td>\n",
       "      <td>Male</td>\n",
       "      <td>1977-05-13</td>\n",
       "      <td>NV</td>\n",
       "      <td>956-871-8691</td>\n",
       "      <td>Gold</td>\n",
       "      <td>0</td>\n",
       "    </tr>\n",
       "    <tr>\n",
       "      <th>631</th>\n",
       "      <td>39219616</td>\n",
       "      <td>19269962</td>\n",
       "      <td>Other causes</td>\n",
       "      <td>2018-09-26</td>\n",
       "      <td>Auto</td>\n",
       "      <td>No</td>\n",
       "      <td>Material only</td>\n",
       "      <td>2240.0</td>\n",
       "      <td>2.0</td>\n",
       "      <td>No</td>\n",
       "      <td>19269962</td>\n",
       "      <td>Male</td>\n",
       "      <td>1977-05-13</td>\n",
       "      <td>NV</td>\n",
       "      <td>956-871-8691</td>\n",
       "      <td>Gold</td>\n",
       "      <td>0</td>\n",
       "    </tr>\n",
       "    <tr>\n",
       "      <th>5</th>\n",
       "      <td>24050443</td>\n",
       "      <td>21831191</td>\n",
       "      <td>Other driver error</td>\n",
       "      <td>2017-10-04</td>\n",
       "      <td>Auto</td>\n",
       "      <td>No</td>\n",
       "      <td>Injury only</td>\n",
       "      <td>38306.5</td>\n",
       "      <td>3.0</td>\n",
       "      <td>Yes</td>\n",
       "      <td>21831191</td>\n",
       "      <td>Male</td>\n",
       "      <td>1977-05-17</td>\n",
       "      <td>NH</td>\n",
       "      <td>419-712-8513</td>\n",
       "      <td>Gold</td>\n",
       "      <td>1</td>\n",
       "    </tr>\n",
       "    <tr>\n",
       "      <th>632</th>\n",
       "      <td>91475471</td>\n",
       "      <td>21831191</td>\n",
       "      <td>Driver error</td>\n",
       "      <td>2018-02-09</td>\n",
       "      <td>Auto</td>\n",
       "      <td>Unknown</td>\n",
       "      <td>Material and injury</td>\n",
       "      <td>36810.0</td>\n",
       "      <td>1.0</td>\n",
       "      <td>No</td>\n",
       "      <td>21831191</td>\n",
       "      <td>Male</td>\n",
       "      <td>1977-05-17</td>\n",
       "      <td>NH</td>\n",
       "      <td>419-712-8513</td>\n",
       "      <td>Gold</td>\n",
       "      <td>1</td>\n",
       "    </tr>\n",
       "    <tr>\n",
       "      <th>2</th>\n",
       "      <td>53522022</td>\n",
       "      <td>30308357</td>\n",
       "      <td>Other driver error</td>\n",
       "      <td>2018-02-02</td>\n",
       "      <td>Auto</td>\n",
       "      <td>No</td>\n",
       "      <td>Material only</td>\n",
       "      <td>3369.5</td>\n",
       "      <td>1.0</td>\n",
       "      <td>Yes</td>\n",
       "      <td>30308357</td>\n",
       "      <td>Female</td>\n",
       "      <td>1984-03-11</td>\n",
       "      <td>TN</td>\n",
       "      <td>798-631-4758</td>\n",
       "      <td>Silver</td>\n",
       "      <td>0</td>\n",
       "    </tr>\n",
       "    <tr>\n",
       "      <th>629</th>\n",
       "      <td>63017412</td>\n",
       "      <td>30308357</td>\n",
       "      <td>Driver error</td>\n",
       "      <td>2018-04-04</td>\n",
       "      <td>Auto</td>\n",
       "      <td>No</td>\n",
       "      <td>Material only</td>\n",
       "      <td>1950.0</td>\n",
       "      <td>6.0</td>\n",
       "      <td>No</td>\n",
       "      <td>30308357</td>\n",
       "      <td>Female</td>\n",
       "      <td>1984-03-11</td>\n",
       "      <td>TN</td>\n",
       "      <td>798-631-4758</td>\n",
       "      <td>Silver</td>\n",
       "      <td>0</td>\n",
       "    </tr>\n",
       "    <tr>\n",
       "      <th>630</th>\n",
       "      <td>91609100</td>\n",
       "      <td>47830476</td>\n",
       "      <td>Natural causes</td>\n",
       "      <td>2017-04-12</td>\n",
       "      <td>Auto</td>\n",
       "      <td>Unknown</td>\n",
       "      <td>Material only</td>\n",
       "      <td>1440.0</td>\n",
       "      <td>1.0</td>\n",
       "      <td>No</td>\n",
       "      <td>47830476</td>\n",
       "      <td>Female</td>\n",
       "      <td>1986-05-01</td>\n",
       "      <td>MA</td>\n",
       "      <td>413-187-7945</td>\n",
       "      <td>Silver</td>\n",
       "      <td>0</td>\n",
       "    </tr>\n",
       "    <tr>\n",
       "      <th>3</th>\n",
       "      <td>13015401</td>\n",
       "      <td>47830476</td>\n",
       "      <td>Natural causes</td>\n",
       "      <td>2018-06-17</td>\n",
       "      <td>Auto</td>\n",
       "      <td>No</td>\n",
       "      <td>Material only</td>\n",
       "      <td>1680.0</td>\n",
       "      <td>1.0</td>\n",
       "      <td>No</td>\n",
       "      <td>47830476</td>\n",
       "      <td>Female</td>\n",
       "      <td>1986-05-01</td>\n",
       "      <td>MA</td>\n",
       "      <td>413-187-7945</td>\n",
       "      <td>Silver</td>\n",
       "      <td>0</td>\n",
       "    </tr>\n",
       "    <tr>\n",
       "      <th>605</th>\n",
       "      <td>2432399</td>\n",
       "      <td>53539195</td>\n",
       "      <td>Other causes</td>\n",
       "      <td>2017-12-24</td>\n",
       "      <td>Home</td>\n",
       "      <td>No</td>\n",
       "      <td>Material only</td>\n",
       "      <td>2480.0</td>\n",
       "      <td>1.0</td>\n",
       "      <td>No</td>\n",
       "      <td>53539195</td>\n",
       "      <td>Male</td>\n",
       "      <td>1989-10-02</td>\n",
       "      <td>NV</td>\n",
       "      <td>914-342-8239</td>\n",
       "      <td>Gold</td>\n",
       "      <td>0</td>\n",
       "    </tr>\n",
       "    <tr>\n",
       "      <th>622</th>\n",
       "      <td>41779510</td>\n",
       "      <td>53539195</td>\n",
       "      <td>Driver error</td>\n",
       "      <td>2018-10-03</td>\n",
       "      <td>Home</td>\n",
       "      <td>No</td>\n",
       "      <td>Injury only</td>\n",
       "      <td>25040.0</td>\n",
       "      <td>1.0</td>\n",
       "      <td>No</td>\n",
       "      <td>53539195</td>\n",
       "      <td>Male</td>\n",
       "      <td>1989-10-02</td>\n",
       "      <td>NV</td>\n",
       "      <td>914-342-8239</td>\n",
       "      <td>Gold</td>\n",
       "      <td>1</td>\n",
       "    </tr>\n",
       "    <tr>\n",
       "      <th>603</th>\n",
       "      <td>30280492</td>\n",
       "      <td>84147585</td>\n",
       "      <td>Driver error</td>\n",
       "      <td>2017-01-07</td>\n",
       "      <td>Auto</td>\n",
       "      <td>Unknown</td>\n",
       "      <td>Material only</td>\n",
       "      <td>2380.0</td>\n",
       "      <td>1.0</td>\n",
       "      <td>No</td>\n",
       "      <td>84147585</td>\n",
       "      <td>Male</td>\n",
       "      <td>2072-10-18</td>\n",
       "      <td>AK</td>\n",
       "      <td>743-569-4783</td>\n",
       "      <td>Gold</td>\n",
       "      <td>0</td>\n",
       "    </tr>\n",
       "    <tr>\n",
       "      <th>620</th>\n",
       "      <td>78221963</td>\n",
       "      <td>84147585</td>\n",
       "      <td>Driver error</td>\n",
       "      <td>2018-04-10</td>\n",
       "      <td>Auto</td>\n",
       "      <td>Yes</td>\n",
       "      <td>Injury only</td>\n",
       "      <td>14430.0</td>\n",
       "      <td>4.0</td>\n",
       "      <td>No</td>\n",
       "      <td>84147585</td>\n",
       "      <td>Male</td>\n",
       "      <td>2072-10-18</td>\n",
       "      <td>AK</td>\n",
       "      <td>743-569-4783</td>\n",
       "      <td>Gold</td>\n",
       "      <td>0</td>\n",
       "    </tr>\n",
       "    <tr>\n",
       "      <th>604</th>\n",
       "      <td>23938559</td>\n",
       "      <td>85357756</td>\n",
       "      <td>Driver error</td>\n",
       "      <td>2017-02-23</td>\n",
       "      <td>Auto</td>\n",
       "      <td>No</td>\n",
       "      <td>Material only</td>\n",
       "      <td>2130.0</td>\n",
       "      <td>1.0</td>\n",
       "      <td>No</td>\n",
       "      <td>85357756</td>\n",
       "      <td>Male</td>\n",
       "      <td>2070-01-02</td>\n",
       "      <td>PA</td>\n",
       "      <td>915-698-3649</td>\n",
       "      <td>Platinum</td>\n",
       "      <td>0</td>\n",
       "    </tr>\n",
       "    <tr>\n",
       "      <th>621</th>\n",
       "      <td>1654201</td>\n",
       "      <td>85357756</td>\n",
       "      <td>Driver error</td>\n",
       "      <td>2018-06-23</td>\n",
       "      <td>Auto</td>\n",
       "      <td>Unknown</td>\n",
       "      <td>Material only</td>\n",
       "      <td>2510.0</td>\n",
       "      <td>1.0</td>\n",
       "      <td>No</td>\n",
       "      <td>85357756</td>\n",
       "      <td>Male</td>\n",
       "      <td>2070-01-02</td>\n",
       "      <td>PA</td>\n",
       "      <td>915-698-3649</td>\n",
       "      <td>Platinum</td>\n",
       "      <td>0</td>\n",
       "    </tr>\n",
       "  </tbody>\n",
       "</table>\n",
       "</div>"
      ],
      "text/plain": [
       "     claim_id  customer_id      incident_cause claim_date claim_area  \\\n",
       "4    22890252     19269962               Crime 2018-01-13       Auto   \n",
       "631  39219616     19269962        Other causes 2018-09-26       Auto   \n",
       "5    24050443     21831191  Other driver error 2017-10-04       Auto   \n",
       "632  91475471     21831191        Driver error 2018-02-09       Auto   \n",
       "2    53522022     30308357  Other driver error 2018-02-02       Auto   \n",
       "629  63017412     30308357        Driver error 2018-04-04       Auto   \n",
       "630  91609100     47830476      Natural causes 2017-04-12       Auto   \n",
       "3    13015401     47830476      Natural causes 2018-06-17       Auto   \n",
       "605   2432399     53539195        Other causes 2017-12-24       Home   \n",
       "622  41779510     53539195        Driver error 2018-10-03       Home   \n",
       "603  30280492     84147585        Driver error 2017-01-07       Auto   \n",
       "620  78221963     84147585        Driver error 2018-04-10       Auto   \n",
       "604  23938559     85357756        Driver error 2017-02-23       Auto   \n",
       "621   1654201     85357756        Driver error 2018-06-23       Auto   \n",
       "\n",
       "    police_report           claim_type  claim_amount  total_policy_claims  \\\n",
       "4              No        Material only        2680.0                  1.0   \n",
       "631            No        Material only        2240.0                  2.0   \n",
       "5              No          Injury only       38306.5                  3.0   \n",
       "632       Unknown  Material and injury       36810.0                  1.0   \n",
       "2              No        Material only        3369.5                  1.0   \n",
       "629            No        Material only        1950.0                  6.0   \n",
       "630       Unknown        Material only        1440.0                  1.0   \n",
       "3              No        Material only        1680.0                  1.0   \n",
       "605            No        Material only        2480.0                  1.0   \n",
       "622            No          Injury only       25040.0                  1.0   \n",
       "603       Unknown        Material only        2380.0                  1.0   \n",
       "620           Yes          Injury only       14430.0                  4.0   \n",
       "604            No        Material only        2130.0                  1.0   \n",
       "621       Unknown        Material only        2510.0                  1.0   \n",
       "\n",
       "    fraudulent   CUST_ID  gender DateOfBirth State       Contact   Segment  \\\n",
       "4           No  19269962    Male  1977-05-13    NV  956-871-8691      Gold   \n",
       "631         No  19269962    Male  1977-05-13    NV  956-871-8691      Gold   \n",
       "5          Yes  21831191    Male  1977-05-17    NH  419-712-8513      Gold   \n",
       "632         No  21831191    Male  1977-05-17    NH  419-712-8513      Gold   \n",
       "2          Yes  30308357  Female  1984-03-11    TN  798-631-4758    Silver   \n",
       "629         No  30308357  Female  1984-03-11    TN  798-631-4758    Silver   \n",
       "630         No  47830476  Female  1986-05-01    MA  413-187-7945    Silver   \n",
       "3           No  47830476  Female  1986-05-01    MA  413-187-7945    Silver   \n",
       "605         No  53539195    Male  1989-10-02    NV  914-342-8239      Gold   \n",
       "622         No  53539195    Male  1989-10-02    NV  914-342-8239      Gold   \n",
       "603         No  84147585    Male  2072-10-18    AK  743-569-4783      Gold   \n",
       "620         No  84147585    Male  2072-10-18    AK  743-569-4783      Gold   \n",
       "604         No  85357756    Male  2070-01-02    PA  915-698-3649  Platinum   \n",
       "621         No  85357756    Male  2070-01-02    PA  915-698-3649  Platinum   \n",
       "\n",
       "     injury_unreported_flag  \n",
       "4                         0  \n",
       "631                       0  \n",
       "5                         1  \n",
       "632                       1  \n",
       "2                         0  \n",
       "629                       0  \n",
       "630                       0  \n",
       "3                         0  \n",
       "605                       0  \n",
       "622                       1  \n",
       "603                       0  \n",
       "620                       0  \n",
       "604                       0  \n",
       "621                       0  "
      ]
     },
     "execution_count": 239,
     "metadata": {},
     "output_type": "execute_result"
    }
   ],
   "source": [
    "#check for duplicated data based on customer_id\n",
    "\n",
    "cust_claims.loc[cust_claims.customer_id.isin([84147585, 85357756, 53539195, 30308357, 47830476, 19269962,\n",
    "       21831191])].sort_values(by=['customer_id','claim_date']) \n",
    " "
   ]
  },
  {
   "cell_type": "markdown",
   "id": "b710fb5b-4de6-4790-95be-4f3608d5e31b",
   "metadata": {},
   "source": [
    "### 6. One customer can claim for insurance more than once and in each claim, multiple categories of claims can be involved. However, customer ID should remain unique. Retain the most recent observation and delete any duplicated records in the data based on the customer ID column."
   ]
  },
  {
   "cell_type": "code",
   "execution_count": 240,
   "id": "56ae2f9a-1c5d-4559-a867-383ae21cc080",
   "metadata": {},
   "outputs": [
    {
     "data": {
      "text/html": [
       "<div>\n",
       "<style scoped>\n",
       "    .dataframe tbody tr th:only-of-type {\n",
       "        vertical-align: middle;\n",
       "    }\n",
       "\n",
       "    .dataframe tbody tr th {\n",
       "        vertical-align: top;\n",
       "    }\n",
       "\n",
       "    .dataframe thead th {\n",
       "        text-align: right;\n",
       "    }\n",
       "</style>\n",
       "<table border=\"1\" class=\"dataframe\">\n",
       "  <thead>\n",
       "    <tr style=\"text-align: right;\">\n",
       "      <th></th>\n",
       "      <th>claim_id</th>\n",
       "      <th>customer_id</th>\n",
       "      <th>incident_cause</th>\n",
       "      <th>claim_date</th>\n",
       "      <th>claim_area</th>\n",
       "      <th>police_report</th>\n",
       "      <th>claim_type</th>\n",
       "      <th>claim_amount</th>\n",
       "      <th>total_policy_claims</th>\n",
       "      <th>fraudulent</th>\n",
       "      <th>CUST_ID</th>\n",
       "      <th>gender</th>\n",
       "      <th>DateOfBirth</th>\n",
       "      <th>State</th>\n",
       "      <th>Contact</th>\n",
       "      <th>Segment</th>\n",
       "      <th>injury_unreported_flag</th>\n",
       "    </tr>\n",
       "  </thead>\n",
       "  <tbody>\n",
       "    <tr>\n",
       "      <th>0</th>\n",
       "      <td>69348631</td>\n",
       "      <td>154557</td>\n",
       "      <td>Driver error</td>\n",
       "      <td>2018-04-10</td>\n",
       "      <td>Auto</td>\n",
       "      <td>No</td>\n",
       "      <td>Injury only</td>\n",
       "      <td>12467.681373</td>\n",
       "      <td>1.0</td>\n",
       "      <td>Yes</td>\n",
       "      <td>154557</td>\n",
       "      <td>Female</td>\n",
       "      <td>1978-05-23</td>\n",
       "      <td>DE</td>\n",
       "      <td>962-879-1238</td>\n",
       "      <td>Platinum</td>\n",
       "      <td>1</td>\n",
       "    </tr>\n",
       "    <tr>\n",
       "      <th>1</th>\n",
       "      <td>40953049</td>\n",
       "      <td>263204</td>\n",
       "      <td>Other causes</td>\n",
       "      <td>2018-04-04</td>\n",
       "      <td>Auto</td>\n",
       "      <td>No</td>\n",
       "      <td>Material and injury</td>\n",
       "      <td>39192.000000</td>\n",
       "      <td>1.0</td>\n",
       "      <td>Yes</td>\n",
       "      <td>263204</td>\n",
       "      <td>Male</td>\n",
       "      <td>2072-12-20</td>\n",
       "      <td>TX</td>\n",
       "      <td>173-892-6314</td>\n",
       "      <td>Silver</td>\n",
       "      <td>1</td>\n",
       "    </tr>\n",
       "    <tr>\n",
       "      <th>2</th>\n",
       "      <td>45780237</td>\n",
       "      <td>287476</td>\n",
       "      <td>Natural causes</td>\n",
       "      <td>2017-10-17</td>\n",
       "      <td>Auto</td>\n",
       "      <td>Unknown</td>\n",
       "      <td>Material only</td>\n",
       "      <td>1621.500000</td>\n",
       "      <td>2.0</td>\n",
       "      <td>Yes</td>\n",
       "      <td>287476</td>\n",
       "      <td>Male</td>\n",
       "      <td>1988-07-28</td>\n",
       "      <td>FL</td>\n",
       "      <td>364-598-1549</td>\n",
       "      <td>Silver</td>\n",
       "      <td>0</td>\n",
       "    </tr>\n",
       "  </tbody>\n",
       "</table>\n",
       "</div>"
      ],
      "text/plain": [
       "   claim_id  customer_id  incident_cause claim_date claim_area police_report  \\\n",
       "0  69348631       154557    Driver error 2018-04-10       Auto            No   \n",
       "1  40953049       263204    Other causes 2018-04-04       Auto            No   \n",
       "2  45780237       287476  Natural causes 2017-10-17       Auto       Unknown   \n",
       "\n",
       "            claim_type  claim_amount  total_policy_claims fraudulent  CUST_ID  \\\n",
       "0          Injury only  12467.681373                  1.0        Yes   154557   \n",
       "1  Material and injury  39192.000000                  1.0        Yes   263204   \n",
       "2        Material only   1621.500000                  2.0        Yes   287476   \n",
       "\n",
       "   gender DateOfBirth State       Contact   Segment  injury_unreported_flag  \n",
       "0  Female  1978-05-23    DE  962-879-1238  Platinum                       1  \n",
       "1    Male  2072-12-20    TX  173-892-6314    Silver                       1  \n",
       "2    Male  1988-07-28    FL  364-598-1549    Silver                       0  "
      ]
     },
     "execution_count": 240,
     "metadata": {},
     "output_type": "execute_result"
    }
   ],
   "source": [
    "cust_claims.sort_values(by=['customer_id','claim_date'],inplace=True,ignore_index=True)\n",
    "cust_claims.head(3)"
   ]
  },
  {
   "cell_type": "code",
   "execution_count": 241,
   "id": "f8760e10-80de-42de-8c57-7a5cb6ba8c0f",
   "metadata": {},
   "outputs": [
    {
     "data": {
      "text/html": [
       "<div>\n",
       "<style scoped>\n",
       "    .dataframe tbody tr th:only-of-type {\n",
       "        vertical-align: middle;\n",
       "    }\n",
       "\n",
       "    .dataframe tbody tr th {\n",
       "        vertical-align: top;\n",
       "    }\n",
       "\n",
       "    .dataframe thead th {\n",
       "        text-align: right;\n",
       "    }\n",
       "</style>\n",
       "<table border=\"1\" class=\"dataframe\">\n",
       "  <thead>\n",
       "    <tr style=\"text-align: right;\">\n",
       "      <th></th>\n",
       "      <th>claim_id</th>\n",
       "      <th>customer_id</th>\n",
       "      <th>incident_cause</th>\n",
       "      <th>claim_date</th>\n",
       "      <th>claim_area</th>\n",
       "      <th>police_report</th>\n",
       "      <th>claim_type</th>\n",
       "      <th>claim_amount</th>\n",
       "      <th>total_policy_claims</th>\n",
       "      <th>fraudulent</th>\n",
       "      <th>CUST_ID</th>\n",
       "      <th>gender</th>\n",
       "      <th>DateOfBirth</th>\n",
       "      <th>State</th>\n",
       "      <th>Contact</th>\n",
       "      <th>Segment</th>\n",
       "      <th>injury_unreported_flag</th>\n",
       "    </tr>\n",
       "  </thead>\n",
       "  <tbody>\n",
       "    <tr>\n",
       "      <th>0</th>\n",
       "      <td>69348631</td>\n",
       "      <td>154557</td>\n",
       "      <td>Driver error</td>\n",
       "      <td>2018-04-10</td>\n",
       "      <td>Auto</td>\n",
       "      <td>No</td>\n",
       "      <td>Injury only</td>\n",
       "      <td>12467.681373</td>\n",
       "      <td>1.0</td>\n",
       "      <td>Yes</td>\n",
       "      <td>154557</td>\n",
       "      <td>Female</td>\n",
       "      <td>1978-05-23</td>\n",
       "      <td>DE</td>\n",
       "      <td>962-879-1238</td>\n",
       "      <td>Platinum</td>\n",
       "      <td>1</td>\n",
       "    </tr>\n",
       "    <tr>\n",
       "      <th>1</th>\n",
       "      <td>40953049</td>\n",
       "      <td>263204</td>\n",
       "      <td>Other causes</td>\n",
       "      <td>2018-04-04</td>\n",
       "      <td>Auto</td>\n",
       "      <td>No</td>\n",
       "      <td>Material and injury</td>\n",
       "      <td>39192.000000</td>\n",
       "      <td>1.0</td>\n",
       "      <td>Yes</td>\n",
       "      <td>263204</td>\n",
       "      <td>Male</td>\n",
       "      <td>2072-12-20</td>\n",
       "      <td>TX</td>\n",
       "      <td>173-892-6314</td>\n",
       "      <td>Silver</td>\n",
       "      <td>1</td>\n",
       "    </tr>\n",
       "    <tr>\n",
       "      <th>2</th>\n",
       "      <td>45780237</td>\n",
       "      <td>287476</td>\n",
       "      <td>Natural causes</td>\n",
       "      <td>2017-10-17</td>\n",
       "      <td>Auto</td>\n",
       "      <td>Unknown</td>\n",
       "      <td>Material only</td>\n",
       "      <td>1621.500000</td>\n",
       "      <td>2.0</td>\n",
       "      <td>Yes</td>\n",
       "      <td>287476</td>\n",
       "      <td>Male</td>\n",
       "      <td>1988-07-28</td>\n",
       "      <td>FL</td>\n",
       "      <td>364-598-1549</td>\n",
       "      <td>Silver</td>\n",
       "      <td>0</td>\n",
       "    </tr>\n",
       "  </tbody>\n",
       "</table>\n",
       "</div>"
      ],
      "text/plain": [
       "   claim_id  customer_id  incident_cause claim_date claim_area police_report  \\\n",
       "0  69348631       154557    Driver error 2018-04-10       Auto            No   \n",
       "1  40953049       263204    Other causes 2018-04-04       Auto            No   \n",
       "2  45780237       287476  Natural causes 2017-10-17       Auto       Unknown   \n",
       "\n",
       "            claim_type  claim_amount  total_policy_claims fraudulent  CUST_ID  \\\n",
       "0          Injury only  12467.681373                  1.0        Yes   154557   \n",
       "1  Material and injury  39192.000000                  1.0        Yes   263204   \n",
       "2        Material only   1621.500000                  2.0        Yes   287476   \n",
       "\n",
       "   gender DateOfBirth State       Contact   Segment  injury_unreported_flag  \n",
       "0  Female  1978-05-23    DE  962-879-1238  Platinum                       1  \n",
       "1    Male  2072-12-20    TX  173-892-6314    Silver                       1  \n",
       "2    Male  1988-07-28    FL  364-598-1549    Silver                       0  "
      ]
     },
     "execution_count": 241,
     "metadata": {},
     "output_type": "execute_result"
    }
   ],
   "source": [
    "# to retain the most recent customers and remove the duplicates\n",
    "cust_claims.drop_duplicates(subset=['customer_id'],keep='last',inplace=True)\n",
    "cust_claims.head(3)"
   ]
  },
  {
   "cell_type": "code",
   "execution_count": 242,
   "id": "f8341fe2-7917-4369-80de-2d07e3b82087",
   "metadata": {},
   "outputs": [
    {
     "data": {
      "text/plain": [
       "0"
      ]
     },
     "execution_count": 242,
     "metadata": {},
     "output_type": "execute_result"
    }
   ],
   "source": [
    "cust_claims.duplicated().sum()"
   ]
  },
  {
   "cell_type": "code",
   "execution_count": 243,
   "id": "6b83726e-d924-4d90-9eac-c3be85dd64fd",
   "metadata": {},
   "outputs": [
    {
     "data": {
      "text/plain": [
       "(1078, 17)"
      ]
     },
     "execution_count": 243,
     "metadata": {},
     "output_type": "execute_result"
    }
   ],
   "source": [
    "cust_claims.shape"
   ]
  },
  {
   "cell_type": "code",
   "execution_count": 244,
   "id": "e38fcca4-8b3b-4498-ab25-9b0e4da0594d",
   "metadata": {},
   "outputs": [
    {
     "data": {
      "text/plain": [
       "array([2018, 2017])"
      ]
     },
     "execution_count": 244,
     "metadata": {},
     "output_type": "execute_result"
    }
   ],
   "source": [
    "cust_claims.claim_date.dt.year.unique()"
   ]
  },
  {
   "cell_type": "markdown",
   "id": "b404cdd8-a4a7-492b-9eee-59e40e92cdcd",
   "metadata": {},
   "source": [
    "### 7. Calculate the age of customers in years. Based on the age, categorize the customers "
   ]
  },
  {
   "cell_type": "code",
   "execution_count": 245,
   "id": "3c966e21-b6a6-4dd1-a276-4c2e5f330ebd",
   "metadata": {},
   "outputs": [
    {
     "name": "stdout",
     "output_type": "stream",
     "text": [
      "[1975, 1976, 1977, 1978, 1979, 1980, 1981, 1982, 1983, 1984, 1985, 1986, 1987, 1988, 1989, 1990, 1991, 1992, 1993, 1994, 1995, 1996, 1997, 1998, 1999, 2060, 2061, 2062, 2063, 2064, 2065, 2066, 2067, 2068, 2069, 2070, 2071, 2072, 2073, 2074]\n"
     ]
    }
   ],
   "source": [
    "print(sorted(cust_claims.DateOfBirth.dt.year.unique()))  #here some years and anomalies in the data"
   ]
  },
  {
   "cell_type": "code",
   "execution_count": 246,
   "id": "92b460cf-845c-416f-843d-8d571fc5088e",
   "metadata": {},
   "outputs": [],
   "source": [
    "cust_claims['DateOfBirth'] = np.where(cust_claims['DateOfBirth'].dt.year > 2000,cust_claims['DateOfBirth'] - pd.DateOffset(years=100),cust_claims['DateOfBirth'])"
   ]
  },
  {
   "cell_type": "code",
   "execution_count": 247,
   "id": "cb3d04cd-b468-4d26-b49d-c6d12efddf34",
   "metadata": {},
   "outputs": [
    {
     "name": "stdout",
     "output_type": "stream",
     "text": [
      "[1960, 1961, 1962, 1963, 1964, 1965, 1966, 1967, 1968, 1969, 1970, 1971, 1972, 1973, 1974, 1975, 1976, 1977, 1978, 1979, 1980, 1981, 1982, 1983, 1984, 1985, 1986, 1987, 1988, 1989, 1990, 1991, 1992, 1993, 1994, 1995, 1996, 1997, 1998, 1999]\n"
     ]
    }
   ],
   "source": [
    "print(sorted(cust_claims.DateOfBirth.dt.year.unique()))   "
   ]
  },
  {
   "cell_type": "code",
   "execution_count": 248,
   "id": "5bb55468-4247-4e79-ad8a-de6e373c5aba",
   "metadata": {},
   "outputs": [
    {
     "data": {
      "text/html": [
       "<div>\n",
       "<style scoped>\n",
       "    .dataframe tbody tr th:only-of-type {\n",
       "        vertical-align: middle;\n",
       "    }\n",
       "\n",
       "    .dataframe tbody tr th {\n",
       "        vertical-align: top;\n",
       "    }\n",
       "\n",
       "    .dataframe thead th {\n",
       "        text-align: right;\n",
       "    }\n",
       "</style>\n",
       "<table border=\"1\" class=\"dataframe\">\n",
       "  <thead>\n",
       "    <tr style=\"text-align: right;\">\n",
       "      <th></th>\n",
       "      <th>claim_id</th>\n",
       "      <th>customer_id</th>\n",
       "      <th>incident_cause</th>\n",
       "      <th>claim_date</th>\n",
       "      <th>claim_area</th>\n",
       "      <th>police_report</th>\n",
       "      <th>claim_type</th>\n",
       "      <th>claim_amount</th>\n",
       "      <th>total_policy_claims</th>\n",
       "      <th>fraudulent</th>\n",
       "      <th>CUST_ID</th>\n",
       "      <th>gender</th>\n",
       "      <th>DateOfBirth</th>\n",
       "      <th>State</th>\n",
       "      <th>Contact</th>\n",
       "      <th>Segment</th>\n",
       "      <th>injury_unreported_flag</th>\n",
       "      <th>Age</th>\n",
       "    </tr>\n",
       "  </thead>\n",
       "  <tbody>\n",
       "    <tr>\n",
       "      <th>0</th>\n",
       "      <td>69348631</td>\n",
       "      <td>154557</td>\n",
       "      <td>Driver error</td>\n",
       "      <td>2018-04-10</td>\n",
       "      <td>Auto</td>\n",
       "      <td>No</td>\n",
       "      <td>Injury only</td>\n",
       "      <td>12467.681373</td>\n",
       "      <td>1.0</td>\n",
       "      <td>Yes</td>\n",
       "      <td>154557</td>\n",
       "      <td>Female</td>\n",
       "      <td>1978-05-23</td>\n",
       "      <td>DE</td>\n",
       "      <td>962-879-1238</td>\n",
       "      <td>Platinum</td>\n",
       "      <td>1</td>\n",
       "      <td>40</td>\n",
       "    </tr>\n",
       "    <tr>\n",
       "      <th>1</th>\n",
       "      <td>40953049</td>\n",
       "      <td>263204</td>\n",
       "      <td>Other causes</td>\n",
       "      <td>2018-04-04</td>\n",
       "      <td>Auto</td>\n",
       "      <td>No</td>\n",
       "      <td>Material and injury</td>\n",
       "      <td>39192.000000</td>\n",
       "      <td>1.0</td>\n",
       "      <td>Yes</td>\n",
       "      <td>263204</td>\n",
       "      <td>Male</td>\n",
       "      <td>1972-12-20</td>\n",
       "      <td>TX</td>\n",
       "      <td>173-892-6314</td>\n",
       "      <td>Silver</td>\n",
       "      <td>1</td>\n",
       "      <td>46</td>\n",
       "    </tr>\n",
       "  </tbody>\n",
       "</table>\n",
       "</div>"
      ],
      "text/plain": [
       "   claim_id  customer_id incident_cause claim_date claim_area police_report  \\\n",
       "0  69348631       154557   Driver error 2018-04-10       Auto            No   \n",
       "1  40953049       263204   Other causes 2018-04-04       Auto            No   \n",
       "\n",
       "            claim_type  claim_amount  total_policy_claims fraudulent  CUST_ID  \\\n",
       "0          Injury only  12467.681373                  1.0        Yes   154557   \n",
       "1  Material and injury  39192.000000                  1.0        Yes   263204   \n",
       "\n",
       "   gender DateOfBirth State       Contact   Segment  injury_unreported_flag  \\\n",
       "0  Female  1978-05-23    DE  962-879-1238  Platinum                       1   \n",
       "1    Male  1972-12-20    TX  173-892-6314    Silver                       1   \n",
       "\n",
       "   Age  \n",
       "0   40  \n",
       "1   46  "
      ]
     },
     "execution_count": 248,
     "metadata": {},
     "output_type": "execute_result"
    }
   ],
   "source": [
    "cust_claims['Age']=cust_claims.claim_date.dt.year-cust_claims.DateOfBirth.dt.year\n",
    "cust_claims.head(2)"
   ]
  },
  {
   "cell_type": "code",
   "execution_count": 249,
   "id": "a8b0ba31-a5da-40b0-9f39-650c166899f2",
   "metadata": {},
   "outputs": [
    {
     "data": {
      "text/plain": [
       "array([40, 46, 29, 47, 38, 24, 41, 20, 55, 58, 37, 22, 52, 31, 51, 36, 19,\n",
       "       34, 27, 33, 18, 23, 35, 30, 42, 39, 54, 26, 45, 28, 53, 25, 48, 44,\n",
       "       50, 49, 57, 56, 43, 21, 32])"
      ]
     },
     "execution_count": 249,
     "metadata": {},
     "output_type": "execute_result"
    }
   ],
   "source": [
    "cust_claims.Age.unique()"
   ]
  },
  {
   "cell_type": "code",
   "execution_count": 250,
   "id": "4b3704f6-2237-4aa9-8f3c-ded0c71eeb77",
   "metadata": {},
   "outputs": [
    {
     "data": {
      "text/html": [
       "<div>\n",
       "<style scoped>\n",
       "    .dataframe tbody tr th:only-of-type {\n",
       "        vertical-align: middle;\n",
       "    }\n",
       "\n",
       "    .dataframe tbody tr th {\n",
       "        vertical-align: top;\n",
       "    }\n",
       "\n",
       "    .dataframe thead th {\n",
       "        text-align: right;\n",
       "    }\n",
       "</style>\n",
       "<table border=\"1\" class=\"dataframe\">\n",
       "  <thead>\n",
       "    <tr style=\"text-align: right;\">\n",
       "      <th></th>\n",
       "      <th>claim_id</th>\n",
       "      <th>customer_id</th>\n",
       "      <th>incident_cause</th>\n",
       "      <th>claim_date</th>\n",
       "      <th>claim_area</th>\n",
       "      <th>police_report</th>\n",
       "      <th>claim_type</th>\n",
       "      <th>claim_amount</th>\n",
       "      <th>total_policy_claims</th>\n",
       "      <th>fraudulent</th>\n",
       "      <th>CUST_ID</th>\n",
       "      <th>gender</th>\n",
       "      <th>DateOfBirth</th>\n",
       "      <th>State</th>\n",
       "      <th>Contact</th>\n",
       "      <th>Segment</th>\n",
       "      <th>injury_unreported_flag</th>\n",
       "      <th>Age</th>\n",
       "      <th>cust_category</th>\n",
       "    </tr>\n",
       "  </thead>\n",
       "  <tbody>\n",
       "    <tr>\n",
       "      <th>0</th>\n",
       "      <td>69348631</td>\n",
       "      <td>154557</td>\n",
       "      <td>Driver error</td>\n",
       "      <td>2018-04-10</td>\n",
       "      <td>Auto</td>\n",
       "      <td>No</td>\n",
       "      <td>Injury only</td>\n",
       "      <td>12467.681373</td>\n",
       "      <td>1.0</td>\n",
       "      <td>Yes</td>\n",
       "      <td>154557</td>\n",
       "      <td>Female</td>\n",
       "      <td>1978-05-23</td>\n",
       "      <td>DE</td>\n",
       "      <td>962-879-1238</td>\n",
       "      <td>Platinum</td>\n",
       "      <td>1</td>\n",
       "      <td>40</td>\n",
       "      <td>Adult</td>\n",
       "    </tr>\n",
       "    <tr>\n",
       "      <th>1</th>\n",
       "      <td>40953049</td>\n",
       "      <td>263204</td>\n",
       "      <td>Other causes</td>\n",
       "      <td>2018-04-04</td>\n",
       "      <td>Auto</td>\n",
       "      <td>No</td>\n",
       "      <td>Material and injury</td>\n",
       "      <td>39192.000000</td>\n",
       "      <td>1.0</td>\n",
       "      <td>Yes</td>\n",
       "      <td>263204</td>\n",
       "      <td>Male</td>\n",
       "      <td>1972-12-20</td>\n",
       "      <td>TX</td>\n",
       "      <td>173-892-6314</td>\n",
       "      <td>Silver</td>\n",
       "      <td>1</td>\n",
       "      <td>46</td>\n",
       "      <td>Adult</td>\n",
       "    </tr>\n",
       "    <tr>\n",
       "      <th>2</th>\n",
       "      <td>45780237</td>\n",
       "      <td>287476</td>\n",
       "      <td>Natural causes</td>\n",
       "      <td>2017-10-17</td>\n",
       "      <td>Auto</td>\n",
       "      <td>Unknown</td>\n",
       "      <td>Material only</td>\n",
       "      <td>1621.500000</td>\n",
       "      <td>2.0</td>\n",
       "      <td>Yes</td>\n",
       "      <td>287476</td>\n",
       "      <td>Male</td>\n",
       "      <td>1988-07-28</td>\n",
       "      <td>FL</td>\n",
       "      <td>364-598-1549</td>\n",
       "      <td>Silver</td>\n",
       "      <td>0</td>\n",
       "      <td>29</td>\n",
       "      <td>Youth</td>\n",
       "    </tr>\n",
       "  </tbody>\n",
       "</table>\n",
       "</div>"
      ],
      "text/plain": [
       "   claim_id  customer_id  incident_cause claim_date claim_area police_report  \\\n",
       "0  69348631       154557    Driver error 2018-04-10       Auto            No   \n",
       "1  40953049       263204    Other causes 2018-04-04       Auto            No   \n",
       "2  45780237       287476  Natural causes 2017-10-17       Auto       Unknown   \n",
       "\n",
       "            claim_type  claim_amount  total_policy_claims fraudulent  CUST_ID  \\\n",
       "0          Injury only  12467.681373                  1.0        Yes   154557   \n",
       "1  Material and injury  39192.000000                  1.0        Yes   263204   \n",
       "2        Material only   1621.500000                  2.0        Yes   287476   \n",
       "\n",
       "   gender DateOfBirth State       Contact   Segment  injury_unreported_flag  \\\n",
       "0  Female  1978-05-23    DE  962-879-1238  Platinum                       1   \n",
       "1    Male  1972-12-20    TX  173-892-6314    Silver                       1   \n",
       "2    Male  1988-07-28    FL  364-598-1549    Silver                       0   \n",
       "\n",
       "   Age cust_category  \n",
       "0   40         Adult  \n",
       "1   46         Adult  \n",
       "2   29         Youth  "
      ]
     },
     "execution_count": 250,
     "metadata": {},
     "output_type": "execute_result"
    }
   ],
   "source": [
    "cust_claims['cust_category']=pd.cut(cust_claims['Age'],bins=[0,18,30,60,80],labels=['Childern','Youth','Adult','Senior'])\n",
    "cust_claims.head(3)"
   ]
  },
  {
   "cell_type": "markdown",
   "id": "b4d40682-74c5-4f62-9bb5-d9754e67e7ef",
   "metadata": {},
   "source": [
    "### 8. What is the average amount claimed by the customers from various segments?"
   ]
  },
  {
   "cell_type": "code",
   "execution_count": 251,
   "id": "720ec56f-0c9c-48ac-b926-d1d5139ec107",
   "metadata": {},
   "outputs": [
    {
     "data": {
      "text/plain": [
       "Segment\n",
       "Gold        12844.38\n",
       "Platinum    12370.24\n",
       "Silver      12265.10\n",
       "Name: claim_amount, dtype: float64"
      ]
     },
     "execution_count": 251,
     "metadata": {},
     "output_type": "execute_result"
    }
   ],
   "source": [
    "avg_claimed_amt=round(cust_claims.groupby('Segment').claim_amount.mean(),2)\n",
    "avg_claimed_amt"
   ]
  },
  {
   "cell_type": "markdown",
   "id": "e64e1adf-4cb9-4a8e-8180-89f52e733fce",
   "metadata": {},
   "source": [
    "### 9. What is the total claim amount based on incident cause for all the claims that have been done at least 20 days prior to 1st of October, 2018"
   ]
  },
  {
   "cell_type": "code",
   "execution_count": 252,
   "id": "4c9c0ba6-4d2b-428b-8baf-d43bb7e66a10",
   "metadata": {},
   "outputs": [
    {
     "data": {
      "text/plain": [
       "incident_cause\n",
       "Crime                   6840.000000\n",
       "Driver error           14597.681373\n",
       "Natural causes          8418.000000\n",
       "Other causes          247223.681373\n",
       "Other driver error     47599.500000\n",
       "Name: claim_amount, dtype: float64"
      ]
     },
     "execution_count": 252,
     "metadata": {},
     "output_type": "execute_result"
    }
   ],
   "source": [
    "last_date=pd.to_datetime('2018-10-01')\n",
    "prior_date=last_date-pd.DateOffset(days=20)\n",
    "total_claim = cust_claims[ (cust_claims['claim_date']<=last_date) & (cust_claims['claim_date']>=prior_date)]\n",
    "total_claim.groupby('incident_cause').claim_amount.sum()"
   ]
  },
  {
   "cell_type": "code",
   "execution_count": 253,
   "id": "a8f1b638-8729-48ed-895a-4254704915da",
   "metadata": {},
   "outputs": [
    {
     "data": {
      "text/plain": [
       "array(['Driver error', 'Other causes', 'Natural causes',\n",
       "       'Other driver error', 'Crime'], dtype=object)"
      ]
     },
     "execution_count": 253,
     "metadata": {},
     "output_type": "execute_result"
    }
   ],
   "source": [
    "cust_claims.incident_cause.unique()"
   ]
  },
  {
   "cell_type": "markdown",
   "id": "91e7212d-6879-4742-8397-8b63502d2e9d",
   "metadata": {},
   "source": [
    "### 10. How many adults from TX, DE and AK claimed insurance for driver related issues and causes? "
   ]
  },
  {
   "cell_type": "code",
   "execution_count": 254,
   "id": "fcbec787-01e4-4417-9c04-68452f486c3b",
   "metadata": {},
   "outputs": [
    {
     "data": {
      "text/plain": [
       "State\n",
       "DE    9\n",
       "AK    8\n",
       "TX    6\n",
       "Name: count, dtype: int64"
      ]
     },
     "execution_count": 254,
     "metadata": {},
     "output_type": "execute_result"
    }
   ],
   "source": [
    "cust_claims.loc[(cust_claims['State'].isin(['TX', 'DE', 'AK'])) &  (cust_claims['cust_category']=='Adult') & \n",
    "                                                                    (cust_claims['incident_cause'].str.contains('river')),'State'].value_counts()"
   ]
  },
  {
   "cell_type": "markdown",
   "id": "21e12aa1-ca89-4cbf-8187-79b1812fb604",
   "metadata": {},
   "source": [
    "### 11. Draw a pie chart between the aggregated value of claim amount based on gender and segment. Represent the claim amount as a percentage on the pie chart."
   ]
  },
  {
   "cell_type": "code",
   "execution_count": 255,
   "id": "0cae4658-c953-4eaa-b007-e2869c651c20",
   "metadata": {
    "scrolled": true
   },
   "outputs": [
    {
     "data": {
      "image/png": "[encoded data removed]",
      "text/plain": [
       "<Figure size 640x480 with 1 Axes>"
      ]
     },
     "metadata": {},
     "output_type": "display_data"
    }
   ],
   "source": [
    "#segment_claims=pd.crosstab(index=cust_claims.gender,columns=cust_claims.Segment,values=cust_claims.claim_amount,aggfunc='sum') \n",
    "segment_claims = cust_claims.groupby(['Segment', 'gender'])['claim_amount'].sum() \n",
    "segment_claims.plot(kind='pie',autopct='%.2f%%')\n",
    "plt.show()"
   ]
  },
  {
   "cell_type": "markdown",
   "id": "8aa8a787-5d3d-48c3-80a5-b3fc572be74a",
   "metadata": {},
   "source": [
    "### 12. Among males and females, which gender had claimed the most for any type of driver related issues? E.g. This metric can be compared using a bar chart"
   ]
  },
  {
   "cell_type": "code",
   "execution_count": 256,
   "id": "bc412d68-5061-4e39-bddf-2110b18b7620",
   "metadata": {},
   "outputs": [
    {
     "data": {
      "text/plain": [
       "gender\n",
       "Male      281\n",
       "Female    221\n",
       "Name: count, dtype: int64"
      ]
     },
     "execution_count": 256,
     "metadata": {},
     "output_type": "execute_result"
    }
   ],
   "source": [
    "gender_claims=cust_claims.loc[cust_claims['incident_cause'].str.contains('river'),'gender'].value_counts() \n",
    "gender_claims"
   ]
  },
  {
   "cell_type": "code",
   "execution_count": 257,
   "id": "c3e320d0-f4a1-4055-befe-fcaa10f80330",
   "metadata": {},
   "outputs": [
    {
     "data": {
      "image/png": "[encoded data removed]",
      "text/plain": [
       "<Figure size 600x400 with 1 Axes>"
      ]
     },
     "metadata": {},
     "output_type": "display_data"
    }
   ],
   "source": [
    "plt.figure(figsize=(6,4))\n",
    "gender_claims.plot(kind=\"bar\", color=[\"blue\", \"pink\"])\n",
    "plt.xlabel(\"Gender\")\n",
    "plt.ylabel(\"Number of Claims\")\n",
    "plt.title(\"Driver-Related Claims by Gender\")\n",
    "plt.show()"
   ]
  },
  {
   "cell_type": "markdown",
   "id": "1d015790-fb9e-45dc-9348-d88c346d3c90",
   "metadata": {},
   "source": [
    "### 13. Which age group had the maximum fraudulent policy claims? Visualize it on a bar chart."
   ]
  },
  {
   "cell_type": "code",
   "execution_count": 258,
   "id": "4c3a2f1b-e4f6-40b4-89d4-d70984c2743d",
   "metadata": {
    "scrolled": true
   },
   "outputs": [
    {
     "data": {
      "text/plain": [
       "'max fraudulent claims counts'"
      ]
     },
     "metadata": {},
     "output_type": "display_data"
    },
    {
     "data": {
      "text/plain": [
       "171"
      ]
     },
     "metadata": {},
     "output_type": "display_data"
    },
    {
     "data": {
      "image/png": "[encoded data removed]",
      "text/plain": [
       "<Figure size 640x480 with 1 Axes>"
      ]
     },
     "metadata": {},
     "output_type": "display_data"
    }
   ],
   "source": [
    "fraudulent_claims_count=cust_claims.loc[cust_claims['fraudulent']=='Yes','cust_category'].value_counts()\n",
    "display('max fraudulent claims counts',fraudulent_claims_count.max())\n",
    "fraudulent_claims_count.plot(kind='bar')\n",
    "plt.ylabel('faludulent claims count')\n",
    "plt.show()"
   ]
  },
  {
   "cell_type": "markdown",
   "id": "3b76c849-3e62-4455-9086-9e5963a98e84",
   "metadata": {},
   "source": [
    "### 14. Visualize the monthly trend of the total amount that has been claimed by the customers. Ensure that on the “month” axis, the month is in a chronological order not alphabetical order.   \n",
    " "
   ]
  },
  {
   "cell_type": "code",
   "execution_count": 259,
   "id": "a8b71937-4c49-424e-b0a8-4144f5aed060",
   "metadata": {},
   "outputs": [
    {
     "data": {
      "image/png": "[encoded data removed]",
      "text/plain": [
       "<Figure size 1000x800 with 1 Axes>"
      ]
     },
     "metadata": {},
     "output_type": "display_data"
    }
   ],
   "source": [
    "data=cust_claims.groupby(cust_claims.claim_date.dt.to_period('M')).claim_amount.sum().round(2).reset_index()\n",
    "data.rename(columns={'claim_date':'Month'},inplace=True)\n",
    "data['Month'] = data['Month'].astype(str)   #convert 'Month' to string for better axis labels\n",
    "plt.figure(figsize=(10,8))\n",
    "sns.lineplot(data=data, x='Month', y='claim_amount',marker='o', color='r')\n",
    "plt.title(\"Monthly Trend of Total Claim Amount\")\n",
    "plt.xticks(rotation=60)\n",
    "plt.grid(True)\n",
    "plt.show()"
   ]
  },
  {
   "cell_type": "markdown",
   "id": "fb4cd8c3-26ae-4b7d-be71-04bd02f83e84",
   "metadata": {},
   "source": [
    "### 15. What is the average claim amount for gender and age categories and suitably represent the above using a facetted bar chart, one facet that represents fraudulent claims and the other for non-fraudulent claims."
   ]
  },
  {
   "cell_type": "code",
   "execution_count": 260,
   "id": "d747669d-ad69-4cef-a302-972958fd3815",
   "metadata": {},
   "outputs": [
    {
     "data": {
      "text/html": [
       "<div>\n",
       "<style scoped>\n",
       "    .dataframe tbody tr th:only-of-type {\n",
       "        vertical-align: middle;\n",
       "    }\n",
       "\n",
       "    .dataframe tbody tr th {\n",
       "        vertical-align: top;\n",
       "    }\n",
       "\n",
       "    .dataframe thead th {\n",
       "        text-align: right;\n",
       "    }\n",
       "</style>\n",
       "<table border=\"1\" class=\"dataframe\">\n",
       "  <thead>\n",
       "    <tr style=\"text-align: right;\">\n",
       "      <th></th>\n",
       "      <th>gender</th>\n",
       "      <th>Female</th>\n",
       "      <th>Male</th>\n",
       "    </tr>\n",
       "    <tr>\n",
       "      <th>cust_category</th>\n",
       "      <th>fraudulent</th>\n",
       "      <th></th>\n",
       "      <th></th>\n",
       "    </tr>\n",
       "  </thead>\n",
       "  <tbody>\n",
       "    <tr>\n",
       "      <th rowspan=\"2\" valign=\"top\">Childern</th>\n",
       "      <th>No</th>\n",
       "      <td>10900.000000</td>\n",
       "      <td>20300.000000</td>\n",
       "    </tr>\n",
       "    <tr>\n",
       "      <th>Yes</th>\n",
       "      <td>3277.500000</td>\n",
       "      <td>8045.400000</td>\n",
       "    </tr>\n",
       "    <tr>\n",
       "      <th rowspan=\"2\" valign=\"top\">Youth</th>\n",
       "      <th>No</th>\n",
       "      <td>12494.950428</td>\n",
       "      <td>11798.034578</td>\n",
       "    </tr>\n",
       "    <tr>\n",
       "      <th>Yes</th>\n",
       "      <td>7722.277871</td>\n",
       "      <td>11083.016488</td>\n",
       "    </tr>\n",
       "    <tr>\n",
       "      <th rowspan=\"2\" valign=\"top\">Adult</th>\n",
       "      <th>No</th>\n",
       "      <td>12374.103922</td>\n",
       "      <td>12349.379743</td>\n",
       "    </tr>\n",
       "    <tr>\n",
       "      <th>Yes</th>\n",
       "      <td>12564.057171</td>\n",
       "      <td>16802.984457</td>\n",
       "    </tr>\n",
       "  </tbody>\n",
       "</table>\n",
       "</div>"
      ],
      "text/plain": [
       "gender                          Female          Male\n",
       "cust_category fraudulent                            \n",
       "Childern      No          10900.000000  20300.000000\n",
       "              Yes          3277.500000   8045.400000\n",
       "Youth         No          12494.950428  11798.034578\n",
       "              Yes          7722.277871  11083.016488\n",
       "Adult         No          12374.103922  12349.379743\n",
       "              Yes         12564.057171  16802.984457"
      ]
     },
     "execution_count": 260,
     "metadata": {},
     "output_type": "execute_result"
    }
   ],
   "source": [
    "graph=pd.crosstab(index=[cust_claims['cust_category'], cust_claims['fraudulent']],columns=cust_claims.gender,values=cust_claims.claim_amount,aggfunc='mean')\n",
    "graph"
   ]
  },
  {
   "cell_type": "markdown",
   "id": "00e1faec-62f3-426c-9527-2213e65a7b5d",
   "metadata": {},
   "source": [
    "##### Facetplot:\n",
    "    FacetGrid is a powerful function in Seaborn that allows you to create multiple plots (facets) based on categorical variables. It is useful when we want to visualize relationships across different subsets of your data.\n",
    "    \n",
    "    Facets (Subplots): The grid divides the data into separate subsets based on one or more categorical variables.\n",
    "\n",
    "    We can map different Seaborn functions (e.g., sns.barplot, sns.scatterplot, sns.histplot, etc.) onto the grid."
   ]
  },
  {
   "cell_type": "code",
   "execution_count": 261,
   "id": "6b834619-2cc9-4658-a453-1e200ac2251d",
   "metadata": {},
   "outputs": [
    {
     "data": {
      "image/png": "[encoded data removed]",
      "text/plain": [
       "<Figure size 1107.88x500 with 2 Axes>"
      ]
     },
     "metadata": {},
     "output_type": "display_data"
    }
   ],
   "source": [
    "grouped_data = cust_claims.groupby(['cust_category', 'gender', 'fraudulent'], observed=False)['claim_amount'].mean().reset_index()\n",
    "\n",
    "# Create FacetGrid (split by fraudulent status)\n",
    "g = sns.FacetGrid(grouped_data, col=\"fraudulent\", height=5 )   \n",
    "\n",
    "# Add a barplot to each facet\n",
    "g.map_dataframe(sns.barplot, x='gender', y='claim_amount', hue='cust_category' , palette=\"Set1\")\n",
    "\n",
    "g.set_axis_labels(\"Age Category\", \"Average Claim Amount\")\n",
    "g.set_titles(\"Fraudulent: {col_name}\")\n",
    "g.add_legend()\n",
    "plt.show()"
   ]
  },
  {
   "cell_type": "markdown",
   "id": "376fbf6e-adc4-4e24-b459-cf3798049a98",
   "metadata": {
    "jp-MarkdownHeadingCollapsed": true
   },
   "source": [
    "### Based on the conclusions from exploratory analysis as well as suitable statistical tests, answer the below questions. Please include a detailed write-up on the parameters taken into consideration, the Hypothesis testing steps, conclusion from the p-values and the business implications of the statements. "
   ]
  },
  {
   "cell_type": "markdown",
   "id": "0b9ff697-dbdc-4685-8089-77deefa444f7",
   "metadata": {},
   "source": [
    "## 16. Is there any similarity in the amount claimed by males and females?"
   ]
  },
  {
   "cell_type": "code",
   "execution_count": 262,
   "id": "1394c36e-eb9b-4889-95eb-580cc26de3bf",
   "metadata": {},
   "outputs": [],
   "source": [
    "Male_claim=cust_claims.loc[cust_claims['gender']=='Male','claim_amount'] \n",
    "Female_claim=cust_claims.loc[cust_claims['gender']=='Female','claim_amount'] "
   ]
  },
  {
   "cell_type": "code",
   "execution_count": 263,
   "id": "9b515302-4728-47c9-8207-1e31156238cb",
   "metadata": {},
   "outputs": [
    {
     "data": {
      "text/plain": [
       "gender\n",
       "Female    12099.287021\n",
       "Male      12882.620743\n",
       "Name: claim_amount, dtype: float64"
      ]
     },
     "execution_count": 263,
     "metadata": {},
     "output_type": "execute_result"
    }
   ],
   "source": [
    "cust_claims.groupby('gender').claim_amount.mean()"
   ]
  },
  {
   "cell_type": "markdown",
   "id": "c9d0c416-f80f-460a-b1dd-69441dbd8a02",
   "metadata": {},
   "source": [
    "##### 1.Define H0: \n",
    "        u1(Male) = u2(Female)\n",
    "\n",
    "##### 2.Define Ha: \n",
    "        u1(Male) <> u2(Female)\n",
    "        \n",
    "##### 3.At CI=95% \n",
    "        p_value = 0.05\n",
    "\n",
    "##### 4.Perform the test \n",
    "        T-test\n"
   ]
  },
  {
   "cell_type": "code",
   "execution_count": 264,
   "id": "50b4d208-811a-4ad5-ba25-680604ea5a84",
   "metadata": {},
   "outputs": [],
   "source": [
    "from statsmodels.stats.weightstats import ztest"
   ]
  },
  {
   "cell_type": "code",
   "execution_count": 265,
   "id": "5e59b91e-3a43-40f8-b7e8-de17967c57c8",
   "metadata": {},
   "outputs": [
    {
     "data": {
      "text/plain": [
       "(0.9620778099755283, 0.33601051971322204)"
      ]
     },
     "execution_count": 265,
     "metadata": {},
     "output_type": "execute_result"
    }
   ],
   "source": [
    "z_score,p_value=ztest(Male_claim,Female_claim)\n",
    "z_score,p_value"
   ]
  },
  {
   "cell_type": "code",
   "execution_count": 266,
   "id": "23d95625-e233-46b5-a788-f3a42916bf5d",
   "metadata": {},
   "outputs": [
    {
     "data": {
      "text/plain": [
       "TtestResult(statistic=0.9620778099755283, pvalue=0.33622666923857736, df=1076.0)"
      ]
     },
     "execution_count": 266,
     "metadata": {},
     "output_type": "execute_result"
    }
   ],
   "source": [
    "stats.ttest_ind(Male_claim, Female_claim)"
   ]
  },
  {
   "cell_type": "markdown",
   "id": "6ffed933-d646-471c-963c-e4e05cfffe9b",
   "metadata": {},
   "source": [
    "##### 5.Rejection Rule \n",
    "         since p_value>0.05 so we fail to reject the H0!"
   ]
  },
  {
   "cell_type": "markdown",
   "id": "5c92cec3-f50d-4d36-bc38-5e27c893ce15",
   "metadata": {},
   "source": [
    "##### 6. Business conclusion\n",
    "        \n",
    "          There is no statistical evidence to suggest a difference in the claim amounts between males and females, \n",
    "          meaning the amounts could be considered similar."
   ]
  },
  {
   "cell_type": "markdown",
   "id": "cda75db7-115c-4981-9d7f-8a059a82a959",
   "metadata": {},
   "source": [
    "## 17. Is there any relationship between age category and segment?"
   ]
  },
  {
   "cell_type": "code",
   "execution_count": 267,
   "id": "f96c5655-4466-4c38-9e95-306d933723e7",
   "metadata": {},
   "outputs": [
    {
     "data": {
      "text/plain": [
       "cust_category\n",
       "Adult       729\n",
       "Youth       331\n",
       "Childern     18\n",
       "Senior        0\n",
       "Name: count, dtype: int64"
      ]
     },
     "execution_count": 267,
     "metadata": {},
     "output_type": "execute_result"
    }
   ],
   "source": [
    "cust_claims.cust_category.value_counts()"
   ]
  },
  {
   "cell_type": "code",
   "execution_count": 268,
   "id": "c8cc8029-75b1-43a2-b370-db4e033a0bcc",
   "metadata": {},
   "outputs": [
    {
     "data": {
      "text/plain": [
       "Segment\n",
       "Gold        371\n",
       "Platinum    361\n",
       "Silver      346\n",
       "Name: count, dtype: int64"
      ]
     },
     "execution_count": 268,
     "metadata": {},
     "output_type": "execute_result"
    }
   ],
   "source": [
    "cust_claims.Segment.value_counts()"
   ]
  },
  {
   "cell_type": "code",
   "execution_count": 269,
   "id": "ef84b4be-b671-41b4-9942-844338c49bf9",
   "metadata": {},
   "outputs": [
    {
     "data": {
      "text/html": [
       "<div>\n",
       "<style scoped>\n",
       "    .dataframe tbody tr th:only-of-type {\n",
       "        vertical-align: middle;\n",
       "    }\n",
       "\n",
       "    .dataframe tbody tr th {\n",
       "        vertical-align: top;\n",
       "    }\n",
       "\n",
       "    .dataframe thead th {\n",
       "        text-align: right;\n",
       "    }\n",
       "</style>\n",
       "<table border=\"1\" class=\"dataframe\">\n",
       "  <thead>\n",
       "    <tr style=\"text-align: right;\">\n",
       "      <th>Segment</th>\n",
       "      <th>Gold</th>\n",
       "      <th>Platinum</th>\n",
       "      <th>Silver</th>\n",
       "    </tr>\n",
       "    <tr>\n",
       "      <th>cust_category</th>\n",
       "      <th></th>\n",
       "      <th></th>\n",
       "      <th></th>\n",
       "    </tr>\n",
       "  </thead>\n",
       "  <tbody>\n",
       "    <tr>\n",
       "      <th>Childern</th>\n",
       "      <td>7</td>\n",
       "      <td>6</td>\n",
       "      <td>5</td>\n",
       "    </tr>\n",
       "    <tr>\n",
       "      <th>Youth</th>\n",
       "      <td>110</td>\n",
       "      <td>117</td>\n",
       "      <td>104</td>\n",
       "    </tr>\n",
       "    <tr>\n",
       "      <th>Adult</th>\n",
       "      <td>254</td>\n",
       "      <td>238</td>\n",
       "      <td>237</td>\n",
       "    </tr>\n",
       "  </tbody>\n",
       "</table>\n",
       "</div>"
      ],
      "text/plain": [
       "Segment        Gold  Platinum  Silver\n",
       "cust_category                        \n",
       "Childern          7         6       5\n",
       "Youth           110       117     104\n",
       "Adult           254       238     237"
      ]
     },
     "execution_count": 269,
     "metadata": {},
     "output_type": "execute_result"
    }
   ],
   "source": [
    "obs=pd.crosstab(index=cust_claims.cust_category,columns=cust_claims.Segment)\n",
    "obs"
   ]
  },
  {
   "cell_type": "markdown",
   "id": "d2980865-db3d-4348-9324-e0de003862bd",
   "metadata": {},
   "source": [
    "###### 1.Define H0:\n",
    "        There is no relationship between age category and segment; they are independent of each other\n",
    "###### 2.Define Ha:\n",
    "        There is a relationship between age category and segment; they are not independent of each others\n",
    "###### 3.At CI=95%\n",
    "            p_value=0.05\n",
    "###### 4.Perform the test:\n",
    "            Chi-square test     "
   ]
  },
  {
   "cell_type": "code",
   "execution_count": 270,
   "id": "8b506f99-2794-4dc7-ae35-be85c400c5f5",
   "metadata": {},
   "outputs": [
    {
     "data": {
      "text/plain": [
       "Chi2ContingencyResult(statistic=0.9641715180581729, pvalue=0.915179217525063, dof=4, expected_freq=array([[  6.19480519,   6.02782931,   5.77736549],\n",
       "       [113.91558442, 110.84508349, 106.2393321 ],\n",
       "       [250.88961039, 244.1270872 , 233.98330241]]))"
      ]
     },
     "execution_count": 270,
     "metadata": {},
     "output_type": "execute_result"
    }
   ],
   "source": [
    "stats.chi2_contingency(obs)"
   ]
  },
  {
   "cell_type": "markdown",
   "id": "dac37ad7-bb4c-442c-af92-3f5c7bb75bde",
   "metadata": {},
   "source": [
    "##### 5. Rejection Rule:\n",
    "    Since new p-value > 0.05, We accept the H0!"
   ]
  },
  {
   "cell_type": "markdown",
   "id": "e2db62c1-2636-42e7-8c5c-190209b23772",
   "metadata": {},
   "source": [
    "#### 6.Business Conclusion:\n",
    "    There is no significant relationship between age category and segment in the data, they are independent of each others."
   ]
  },
  {
   "cell_type": "markdown",
   "id": "4973ba13-882b-4dd1-bbec-4ee028e4e30f",
   "metadata": {},
   "source": [
    "## 18 The current year has shown a significant rise in claim amounts as compared to 2016-17 fiscal average which was $10,000."
   ]
  },
  {
   "cell_type": "code",
   "execution_count": 271,
   "id": "befd7ac3-6f0a-4071-851d-802c48c715df",
   "metadata": {},
   "outputs": [],
   "source": [
    "# Extract the claim amounts for 2018\n",
    "claim_2018 = cust_claims.loc[cust_claims.claim_date.dt.year==2018,'claim_amount']\n",
    "\n",
    "# Known fiscal average claim amount for 2016-17\n",
    "fiscal_average = 10000"
   ]
  },
  {
   "cell_type": "markdown",
   "id": "67561010-2415-42ab-b148-b49d9d59312a",
   "metadata": {},
   "source": [
    "###### 1.Define H0:\n",
    "            There is no significant increase in the mean claim amount for 2018 compared to the 2016-17 fiscal average of $10,000.\n",
    "            (µ = 10,000)\n",
    "###### 2.Define Ha:\n",
    "            The mean claim amount for 2018 is significantly greater than $10,000.\n",
    "             (μ > 10,000)\n",
    "###### 3.At CI=95%\n",
    "            p_value=0.05\n",
    "###### 4.Perform the test:\n",
    "            T-test   "
   ]
  },
  {
   "cell_type": "code",
   "execution_count": 272,
   "id": "7c163e7d-24ed-4eb0-8bb4-24bd399b1840",
   "metadata": {},
   "outputs": [
    {
     "data": {
      "text/plain": [
       "TtestResult(statistic=4.473433335505479, pvalue=9.60312144919699e-06, df=484)"
      ]
     },
     "execution_count": 272,
     "metadata": {},
     "output_type": "execute_result"
    }
   ],
   "source": [
    "stats.ttest_1samp(claim_2018,fiscal_average)"
   ]
  },
  {
   "cell_type": "markdown",
   "id": "ae8ef478-a9c5-4bcb-ac50-cec4d878389e",
   "metadata": {},
   "source": [
    "##### 5. Rejection Rule:\n",
    "        Since new p-value < 0.05, reject the H0!"
   ]
  },
  {
   "cell_type": "markdown",
   "id": "a5e4c33f-efef-46ba-a930-a2e6bcd1d7ab",
   "metadata": {},
   "source": [
    "#### 6.Business Conclusion:\n",
    "        The claim amount for 2018 is significantly greater than $10,000.  "
   ]
  },
  {
   "cell_type": "markdown",
   "id": "0aa64083-fc2e-4dab-b235-b08fb1f3a7d5",
   "metadata": {},
   "source": [
    "## 19 Is there any difference between age groups and insurance claims?\n"
   ]
  },
  {
   "cell_type": "code",
   "execution_count": 273,
   "id": "5bec10d9-45e7-41b5-b5fa-a81e6b387095",
   "metadata": {},
   "outputs": [
    {
     "data": {
      "text/plain": [
       "claim_type\n",
       "Material only          647\n",
       "Material and injury    237\n",
       "Injury only            194\n",
       "Name: count, dtype: int64"
      ]
     },
     "execution_count": 273,
     "metadata": {},
     "output_type": "execute_result"
    }
   ],
   "source": [
    "cust_claims.claim_type.value_counts()"
   ]
  },
  {
   "cell_type": "code",
   "execution_count": 274,
   "id": "be28c60d-eb6a-44c9-b6c7-8602492911b4",
   "metadata": {},
   "outputs": [
    {
     "data": {
      "text/plain": [
       "cust_category\n",
       "Adult       729\n",
       "Youth       331\n",
       "Childern     18\n",
       "Senior        0\n",
       "Name: count, dtype: int64"
      ]
     },
     "execution_count": 274,
     "metadata": {},
     "output_type": "execute_result"
    }
   ],
   "source": [
    "cust_claims.cust_category.value_counts()"
   ]
  },
  {
   "cell_type": "code",
   "execution_count": 275,
   "id": "80a41896-2a41-48f0-9e3c-71845b85fe30",
   "metadata": {},
   "outputs": [
    {
     "data": {
      "text/html": [
       "<div>\n",
       "<style scoped>\n",
       "    .dataframe tbody tr th:only-of-type {\n",
       "        vertical-align: middle;\n",
       "    }\n",
       "\n",
       "    .dataframe tbody tr th {\n",
       "        vertical-align: top;\n",
       "    }\n",
       "\n",
       "    .dataframe thead th {\n",
       "        text-align: right;\n",
       "    }\n",
       "</style>\n",
       "<table border=\"1\" class=\"dataframe\">\n",
       "  <thead>\n",
       "    <tr style=\"text-align: right;\">\n",
       "      <th>claim_type</th>\n",
       "      <th>Injury only</th>\n",
       "      <th>Material and injury</th>\n",
       "      <th>Material only</th>\n",
       "    </tr>\n",
       "    <tr>\n",
       "      <th>cust_category</th>\n",
       "      <th></th>\n",
       "      <th></th>\n",
       "      <th></th>\n",
       "    </tr>\n",
       "  </thead>\n",
       "  <tbody>\n",
       "    <tr>\n",
       "      <th>Childern</th>\n",
       "      <td>3</td>\n",
       "      <td>6</td>\n",
       "      <td>9</td>\n",
       "    </tr>\n",
       "    <tr>\n",
       "      <th>Youth</th>\n",
       "      <td>67</td>\n",
       "      <td>53</td>\n",
       "      <td>211</td>\n",
       "    </tr>\n",
       "    <tr>\n",
       "      <th>Adult</th>\n",
       "      <td>124</td>\n",
       "      <td>178</td>\n",
       "      <td>427</td>\n",
       "    </tr>\n",
       "  </tbody>\n",
       "</table>\n",
       "</div>"
      ],
      "text/plain": [
       "claim_type     Injury only  Material and injury  Material only\n",
       "cust_category                                                 \n",
       "Childern                 3                    6              9\n",
       "Youth                   67                   53            211\n",
       "Adult                  124                  178            427"
      ]
     },
     "execution_count": 275,
     "metadata": {},
     "output_type": "execute_result"
    }
   ],
   "source": [
    "obs2 = pd.crosstab(index=cust_claims.cust_category, columns= cust_claims.claim_type)\n",
    "obs2"
   ]
  },
  {
   "cell_type": "markdown",
   "id": "ce4b31b1-2fde-40c0-b5ff-319872ada26e",
   "metadata": {},
   "source": [
    "##### 1.Define H0:\n",
    "            There is no significant difference in the average insurance claims between different age groups\n",
    "            (The mean insurance claim amount for each age group is the same.)\n",
    "##### 2.Define Ha:\n",
    "            There is a significant difference in the average insurance claims between different age groups.\n",
    "            (The mean insurance claim amount for at least one age group is different from the others.)\n",
    "##### 3.At CI=95%\n",
    "            p_value=0.05\n",
    "##### 4.Perform the test:\n",
    "            chi-sqare test\n"
   ]
  },
  {
   "cell_type": "code",
   "execution_count": 276,
   "id": "dda8793d-315d-48f7-b9cb-a6ed72d83213",
   "metadata": {},
   "outputs": [
    {
     "data": {
      "text/plain": [
       "Chi2ContingencyResult(statistic=11.047240696678225, pvalue=0.026038192972296988, dof=4, expected_freq=array([[  3.2393321 ,   3.95732839,  10.80333952],\n",
       "       [ 59.567718  ,  72.77087199, 198.66141002],\n",
       "       [131.19294991, 160.27179963, 437.53525046]]))"
      ]
     },
     "execution_count": 276,
     "metadata": {},
     "output_type": "execute_result"
    }
   ],
   "source": [
    "stats.chi2_contingency(obs2)"
   ]
  },
  {
   "cell_type": "markdown",
   "id": "d9bb41b8-1c6b-4885-bd32-8938cd064208",
   "metadata": {},
   "source": [
    "##### 5. Rejection Rule:\n",
    "    Since new p-value < 0.05, so We reject the H0!"
   ]
  },
  {
   "cell_type": "markdown",
   "id": "f6117208-8285-4475-a53a-82f01ff6d770",
   "metadata": {},
   "source": [
    "#### 6.Business Conclusion:\n",
    "    The distribution of insurance claim types is significantly different across different age groups."
   ]
  },
  {
   "cell_type": "markdown",
   "id": "92e704e3-a20a-4a89-8bcf-7833a61d4386",
   "metadata": {},
   "source": [
    "## 20. Is there any relationship between total number of policy claims and the claimed amount?"
   ]
  },
  {
   "cell_type": "code",
   "execution_count": 277,
   "id": "59dfe950-88c7-4aa1-801b-5331ce59e421",
   "metadata": {},
   "outputs": [
    {
     "data": {
      "text/plain": [
       "8"
      ]
     },
     "execution_count": 277,
     "metadata": {},
     "output_type": "execute_result"
    }
   ],
   "source": [
    "cust_claims.total_policy_claims.nunique()"
   ]
  },
  {
   "cell_type": "markdown",
   "id": "bee3ee79-c02d-44e8-a479-8ebd22865d80",
   "metadata": {},
   "source": [
    "##### 1.Define H0:\n",
    "            There is no correlation between the total number of policy claims and the claimed amount.\n",
    "##### 2.Define Ha:\n",
    "            There is a significant correlation between the total number of policy claims and the claimed amount.\n",
    "##### 3.At CI=95%\n",
    "            p_value=0.05\n",
    "##### 4.Perform the test:\n",
    "            Spearman’s Rank Correlation"
   ]
  },
  {
   "cell_type": "code",
   "execution_count": 278,
   "id": "e7834722-2bf4-44a1-9b8a-ed084f78711b",
   "metadata": {},
   "outputs": [],
   "source": [
    "# You do not need to reorder your data; Spearman’s Rank Correlation will handle the ranking automatically!\n",
    "# You only need to check for normality when you plan to use Pearson’s Correlation (which assumes normality of both variables) or other parametric tests.\n",
    "# For Spearman’s, there's no need for normality checks."
   ]
  },
  {
   "cell_type": "code",
   "execution_count": 279,
   "id": "928341a0-1429-416d-b125-c454e96c6b2b",
   "metadata": {},
   "outputs": [
    {
     "data": {
      "text/plain": [
       "SignificanceResult(statistic=0.0024438656269395224, pvalue=0.9361209394901033)"
      ]
     },
     "execution_count": 279,
     "metadata": {},
     "output_type": "execute_result"
    }
   ],
   "source": [
    "stats.spearmanr(cust_claims.total_policy_claims, cust_claims.claim_amount)"
   ]
  },
  {
   "cell_type": "markdown",
   "id": "5aed6a84-84da-48fb-b036-b61aa0c572f2",
   "metadata": {},
   "source": [
    "##### 5. Rejection Rule:\n",
    "    Since new p-value > 0.05, We fail to reject the H0!"
   ]
  },
  {
   "cell_type": "markdown",
   "id": "17462db6-5be7-4a10-bcd5-6071a1452a7b",
   "metadata": {},
   "source": [
    "#### 6.Business Conclusion:\n",
    "     There is no significant correlation between the total number of policy claims and the claimed amount,\n",
    "     indicating that the number of claims are independent of the amount claimed."
   ]
  },
  {
   "cell_type": "code",
   "execution_count": null,
   "id": "067576b5-2ee9-41a3-9886-562a3383687e",
   "metadata": {},
   "outputs": [],
   "source": []
  },
  {
   "cell_type": "code",
   "execution_count": null,
   "id": "8f9a3c57-f667-46eb-b80b-2f2269a2c582",
   "metadata": {},
   "outputs": [],
   "source": []
  },
  {
   "cell_type": "code",
   "execution_count": null,
   "id": "b4e9bed9-a3e7-42c6-be03-512e5a9b2b55",
   "metadata": {},
   "outputs": [],
   "source": []
  },
  {
   "cell_type": "code",
   "execution_count": null,
   "id": "f81df829-8afe-473b-84b6-8286f7a7f406",
   "metadata": {},
   "outputs": [],
   "source": []
  },
  {
   "cell_type": "code",
   "execution_count": null,
   "id": "47ef3cee-13f3-44de-ad7c-ba4eb65188f0",
   "metadata": {},
   "outputs": [],
   "source": []
  }
 ],
 "metadata": {
  "kernelspec": {
   "display_name": "Python 3 (ipykernel)",
   "language": "python",
   "name": "python3"
  },
  "language_info": {
   "codemirror_mode": {
    "name": "ipython",
    "version": 3
   },
   "file_extension": ".py",
   "mimetype": "text/x-python",
   "name": "python",
   "nbconvert_exporter": "python",
   "pygments_lexer": "ipython3",
   "version": "3.12.4"
  }
 },
 "nbformat": 4,
 "nbformat_minor": 5
}
